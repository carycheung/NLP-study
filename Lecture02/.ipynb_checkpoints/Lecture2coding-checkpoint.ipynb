{
 "cells": [
  {
   "cell_type": "markdown",
   "metadata": {},
   "source": [
    "# AI for NLP. Lecture 1 Part 1"
   ]
  },
  {
   "cell_type": "markdown",
   "metadata": {},
   "source": [
    "## Build Graph"
   ]
  },
  {
   "cell_type": "code",
   "execution_count": 1,
   "metadata": {},
   "outputs": [],
   "source": [
    "\n",
    "coordination_source = \"\"\"\n",
    "{name:'兰州', geoCoord:[103.73, 36.03]},\n",
    "{name:'嘉峪关', geoCoord:[98.17, 39.47]},\n",
    "{name:'西宁', geoCoord:[101.74, 36.56]},\n",
    "{name:'成都', geoCoord:[104.06, 30.67]},\n",
    "{name:'石家庄', geoCoord:[114.48, 38.03]},\n",
    "{name:'拉萨', geoCoord:[102.73, 25.04]},\n",
    "{name:'贵阳', geoCoord:[106.71, 26.57]},\n",
    "{name:'武汉', geoCoord:[114.31, 30.52]},\n",
    "{name:'郑州', geoCoord:[113.65, 34.76]},\n",
    "{name:'济南', geoCoord:[117, 36.65]},\n",
    "{name:'南京', geoCoord:[118.78, 32.04]},\n",
    "{name:'合肥', geoCoord:[117.27, 31.86]},\n",
    "{name:'杭州', geoCoord:[120.19, 30.26]},\n",
    "{name:'南昌', geoCoord:[115.89, 28.68]},\n",
    "{name:'福州', geoCoord:[119.3, 26.08]},\n",
    "{name:'广州', geoCoord:[113.23, 23.16]},\n",
    "{name:'长沙', geoCoord:[113, 28.21]},\n",
    "//{name:'海口', geoCoord:[110.35, 20.02]},\n",
    "{name:'沈阳', geoCoord:[123.38, 41.8]},\n",
    "{name:'长春', geoCoord:[125.35, 43.88]},\n",
    "{name:'哈尔滨', geoCoord:[126.63, 45.75]},\n",
    "{name:'太原', geoCoord:[112.53, 37.87]},\n",
    "{name:'西安', geoCoord:[108.95, 34.27]},\n",
    "//{name:'台湾', geoCoord:[121.30, 25.03]},\n",
    "{name:'北京', geoCoord:[116.46, 39.92]},\n",
    "{name:'上海', geoCoord:[121.48, 31.22]},\n",
    "{name:'重庆', geoCoord:[106.54, 29.59]},\n",
    "{name:'天津', geoCoord:[117.2, 39.13]},\n",
    "{name:'呼和浩特', geoCoord:[111.65, 40.82]},\n",
    "{name:'南宁', geoCoord:[108.33, 22.84]},\n",
    "//{name:'西藏', geoCoord:[91.11, 29.97]},\n",
    "{name:'银川', geoCoord:[106.27, 38.47]},\n",
    "{name:'乌鲁木齐', geoCoord:[87.68, 43.77]},\n",
    "{name:'香港', geoCoord:[114.17, 22.28]},\n",
    "{name:'澳门', geoCoord:[113.54, 22.19]}\n",
    "\"\"\""
   ]
  },
  {
   "cell_type": "markdown",
   "metadata": {},
   "source": [
    "**Get data from source using regular expression**"
   ]
  },
  {
   "cell_type": "code",
   "execution_count": 2,
   "metadata": {},
   "outputs": [],
   "source": [
    "import re"
   ]
  },
  {
   "cell_type": "markdown",
   "metadata": {},
   "source": [
    "**Regular Expression <a href=\"https://www.runoob.com/python/python-reg-expressions.html\">Reference</a> **"
   ]
  },
  {
   "cell_type": "markdown",
   "metadata": {},
   "source": [
    "[a-z]\n",
    "[A-Z]\n",
    "[^a]: negation\n",
    "colou?r:  ? zero or one of its previous character\n",
    "* : zero or more of its previous character\n",
    "+: one or more\n",
    ".:match any single character\n",
    "^:start of the line\n",
    "$:end of the line\n",
    "| [cat|dog] : cat or dog\n",
    "(da): make the string da like a character\n"
   ]
  },
  {
   "cell_type": "code",
   "execution_count": 7,
   "metadata": {},
   "outputs": [],
   "source": [
    "l = \"color or colour\""
   ]
  },
  {
   "cell_type": "code",
   "execution_count": 8,
   "metadata": {},
   "outputs": [
    {
     "data": {
      "text/plain": [
       "['color', 'colour']"
      ]
     },
     "execution_count": 8,
     "metadata": {},
     "output_type": "execute_result"
    }
   ],
   "source": [
    "pattern = re.compile(\"colou?r\")\n",
    "pattern.findall(l)"
   ]
  },
  {
   "cell_type": "code",
   "execution_count": 10,
   "metadata": {},
   "outputs": [
    {
     "data": {
      "text/plain": [
       "[]"
      ]
     },
     "execution_count": 10,
     "metadata": {},
     "output_type": "execute_result"
    }
   ],
   "source": [
    "re.findall(\"[A-Z]\",l)"
   ]
  },
  {
   "cell_type": "code",
   "execution_count": 11,
   "metadata": {},
   "outputs": [],
   "source": [
    "def get_city_info(city_coordination):\n",
    "    city_location = {}\n",
    "    for line in city_coordination.split(\"\\n\"):\n",
    "        if line.startswith(\"//\"): continue\n",
    "        if line.strip() == \"\":continue\n",
    "            \n",
    "        city = re.findall(\"name:'(\\w+)'\",line)[0]\n",
    "        x_y = re.findall(\"Coord:\\[(\\d+.\\d+),\\s(\\d+.\\d+)\\]\",line)[0]\n",
    "        x_y = tuple(map(float,x_y))\n",
    "        city_location[city] = x_y\n",
    "    return city_location"
   ]
  },
  {
   "cell_type": "code",
   "execution_count": 12,
   "metadata": {},
   "outputs": [],
   "source": [
    "city_info = get_city_info(coordination_source)"
   ]
  },
  {
   "cell_type": "code",
   "execution_count": 13,
   "metadata": {},
   "outputs": [
    {
     "data": {
      "text/plain": [
       "{'兰州': (103.73, 36.03),\n",
       " '嘉峪关': (98.17, 39.47),\n",
       " '西宁': (101.74, 36.56),\n",
       " '成都': (104.06, 30.67),\n",
       " '石家庄': (114.48, 38.03),\n",
       " '拉萨': (102.73, 25.04),\n",
       " '贵阳': (106.71, 26.57),\n",
       " '武汉': (114.31, 30.52),\n",
       " '郑州': (113.65, 34.76),\n",
       " '济南': (117.0, 36.65),\n",
       " '南京': (118.78, 32.04),\n",
       " '合肥': (117.27, 31.86),\n",
       " '杭州': (120.19, 30.26),\n",
       " '南昌': (115.89, 28.68),\n",
       " '福州': (119.3, 26.08),\n",
       " '广州': (113.23, 23.16),\n",
       " '长沙': (113.0, 28.21),\n",
       " '沈阳': (123.38, 41.8),\n",
       " '长春': (125.35, 43.88),\n",
       " '哈尔滨': (126.63, 45.75),\n",
       " '太原': (112.53, 37.87),\n",
       " '西安': (108.95, 34.27),\n",
       " '北京': (116.46, 39.92),\n",
       " '上海': (121.48, 31.22),\n",
       " '重庆': (106.54, 29.59),\n",
       " '天津': (117.2, 39.13),\n",
       " '呼和浩特': (111.65, 40.82),\n",
       " '南宁': (108.33, 22.84),\n",
       " '银川': (106.27, 38.47),\n",
       " '乌鲁木齐': (87.68, 43.77),\n",
       " '香港': (114.17, 22.28),\n",
       " '澳门': (113.54, 22.19)}"
      ]
     },
     "execution_count": 13,
     "metadata": {},
     "output_type": "execute_result"
    }
   ],
   "source": [
    "city_info"
   ]
  },
  {
   "cell_type": "markdown",
   "metadata": {},
   "source": [
    "### Compute distance between cities"
   ]
  },
  {
   "cell_type": "code",
   "execution_count": 15,
   "metadata": {},
   "outputs": [],
   "source": [
    "import math\n",
    "\n",
    "def geo_distance(origin, destination):\n",
    "    \"\"\"\n",
    "    Calculate the Haversine distance.\n",
    "\n",
    "    Parameters\n",
    "    ----------\n",
    "    origin : tuple of float\n",
    "        (lat, long)\n",
    "    destination : tuple of float\n",
    "        (lat, long)\n",
    "\n",
    "    Returns\n",
    "    -------\n",
    "    distance_in_km : float\n",
    "\n",
    "    Examples\n",
    "    --------\n",
    "    >>> origin = (48.1372, 11.5756)  # Munich\n",
    "    >>> destination = (52.5186, 13.4083)  # Berlin\n",
    "    >>> round(distance(origin, destination), 1)\n",
    "    504.2\n",
    "    \"\"\"\n",
    "    lat1, lon1 = origin\n",
    "    lat2, lon2 = destination\n",
    "    radius = 6371  # km\n",
    "\n",
    "    dlat = math.radians(lat2 - lat1)\n",
    "    dlon = math.radians(lon2 - lon1)\n",
    "    a = (math.sin(dlat / 2) * math.sin(dlat / 2) +\n",
    "         math.cos(math.radians(lat1)) * math.cos(math.radians(lat2)) *\n",
    "         math.sin(dlon / 2) * math.sin(dlon / 2))\n",
    "    c = 2 * math.atan2(math.sqrt(a), math.sqrt(1 - a))\n",
    "    d = radius * c\n",
    "\n",
    "    return d"
   ]
  },
  {
   "cell_type": "code",
   "execution_count": 17,
   "metadata": {},
   "outputs": [
    {
     "data": {
      "text/plain": [
       "995.0332323743594"
      ]
     },
     "execution_count": 17,
     "metadata": {},
     "output_type": "execute_result"
    }
   ],
   "source": [
    "def get_city_distance(city1,city2):\n",
    "    return geo_distance(city_info[city1],city_info[city2])\n",
    "\n",
    "get_city_distance(\"澳门\",\"上海\")"
   ]
  },
  {
   "cell_type": "markdown",
   "metadata": {},
   "source": [
    "### Draw the graph"
   ]
  },
  {
   "cell_type": "code",
   "execution_count": 23,
   "metadata": {},
   "outputs": [],
   "source": [
    "import networkx as nx\n",
    "import matplotlib.pyplot as plt\n",
    "#%matplotlib inline\n",
    "\n",
    "plt.rcParams['font.sans-serif'] = ['SimHei']\n",
    "plt.rcParams['axes.unicode_minus'] = False"
   ]
  },
  {
   "cell_type": "code",
   "execution_count": 19,
   "metadata": {},
   "outputs": [
    {
     "data": {
      "text/plain": [
       "dict_keys(['兰州', '嘉峪关', '西宁', '成都', '石家庄', '拉萨', '贵阳', '武汉', '郑州', '济南', '南京', '合肥', '杭州', '南昌', '福州', '广州', '长沙', '沈阳', '长春', '哈尔滨', '太原', '西安', '北京', '上海', '重庆', '天津', '呼和浩特', '南宁', '银川', '乌鲁木齐', '香港', '澳门'])"
      ]
     },
     "execution_count": 19,
     "metadata": {},
     "output_type": "execute_result"
    }
   ],
   "source": [
    "city_info.keys()"
   ]
  },
  {
   "cell_type": "code",
   "execution_count": 20,
   "metadata": {},
   "outputs": [],
   "source": [
    "city_graph = nx.Graph()\n",
    "\n",
    "city_graph.add_nodes_from(list(city_info.keys()))                        "
   ]
  },
  {
   "cell_type": "code",
   "execution_count": 29,
   "metadata": {},
   "outputs": [
    {
     "data": {
      "image/png": "[encoded data removed]",
      "text/plain": [
       "<Figure size 432x288 with 1 Axes>"
      ]
     },
     "metadata": {},
     "output_type": "display_data"
    }
   ],
   "source": [
    "nx.draw(city_graph, city_info, with_labels=True, node_size=3)"
   ]
  },
  {
   "cell_type": "markdown",
   "metadata": {},
   "source": [
    "### Build connection between. Let's assume that two cities are connected if their distance is less than 700 km."
   ]
  },
  {
   "cell_type": "code",
   "execution_count": 30,
   "metadata": {},
   "outputs": [],
   "source": [
    "threshold = 700   # defined the threshold"
   ]
  },
  {
   "cell_type": "code",
   "execution_count": 31,
   "metadata": {},
   "outputs": [],
   "source": [
    "from collections import defaultdict"
   ]
  },
  {
   "cell_type": "code",
   "execution_count": 32,
   "metadata": {},
   "outputs": [],
   "source": [
    "def build_connection(city_info):\n",
    "    cities_connection = defaultdict(list)\n",
    "    cities = list(city_info.keys())\n",
    "    for c1 in cities:\n",
    "        for c2 in cities:\n",
    "            if c1 == c2 : continue\n",
    "            \n",
    "            if get_city_distance(c1,c2) < threshold:\n",
    "                cities_connection[c1].append(c2)\n",
    "    return cities_connection\n",
    "\n",
    "cities_connection = build_connection(city_info)"
   ]
  },
  {
   "cell_type": "code",
   "execution_count": 33,
   "metadata": {},
   "outputs": [
    {
     "data": {
      "text/plain": [
       "defaultdict(list,\n",
       "            {'兰州': ['嘉峪关', '西宁', '成都', '拉萨', '贵阳', '西安', '重庆', '南宁', '银川'],\n",
       "             '嘉峪关': ['兰州', '西宁', '成都', '拉萨'],\n",
       "             '西宁': ['兰州', '嘉峪关', '成都', '拉萨', '贵阳', '重庆', '银川'],\n",
       "             '成都': ['兰州', '嘉峪关', '西宁', '拉萨', '贵阳', '西安', '重庆', '南宁', '银川'],\n",
       "             '石家庄': ['武汉',\n",
       "              '郑州',\n",
       "              '济南',\n",
       "              '南京',\n",
       "              '合肥',\n",
       "              '南昌',\n",
       "              '广州',\n",
       "              '长沙',\n",
       "              '太原',\n",
       "              '西安',\n",
       "              '北京',\n",
       "              '天津',\n",
       "              '呼和浩特'],\n",
       "             '拉萨': ['兰州', '嘉峪关', '西宁', '成都', '贵阳', '重庆', '南宁', '银川'],\n",
       "             '贵阳': ['兰州', '西宁', '成都', '拉萨', '西安', '重庆', '南宁', '银川'],\n",
       "             '武汉': ['石家庄',\n",
       "              '郑州',\n",
       "              '济南',\n",
       "              '南京',\n",
       "              '合肥',\n",
       "              '杭州',\n",
       "              '南昌',\n",
       "              '福州',\n",
       "              '广州',\n",
       "              '长沙',\n",
       "              '太原',\n",
       "              '西安',\n",
       "              '北京',\n",
       "              '天津',\n",
       "              '呼和浩特',\n",
       "              '香港',\n",
       "              '澳门'],\n",
       "             '郑州': ['石家庄',\n",
       "              '武汉',\n",
       "              '济南',\n",
       "              '南京',\n",
       "              '合肥',\n",
       "              '南昌',\n",
       "              '广州',\n",
       "              '长沙',\n",
       "              '太原',\n",
       "              '西安',\n",
       "              '北京',\n",
       "              '天津',\n",
       "              '呼和浩特',\n",
       "              '香港',\n",
       "              '澳门'],\n",
       "             '济南': ['石家庄',\n",
       "              '武汉',\n",
       "              '郑州',\n",
       "              '南京',\n",
       "              '合肥',\n",
       "              '杭州',\n",
       "              '南昌',\n",
       "              '福州',\n",
       "              '长沙',\n",
       "              '太原',\n",
       "              '北京',\n",
       "              '上海',\n",
       "              '天津',\n",
       "              '呼和浩特'],\n",
       "             '南京': ['石家庄',\n",
       "              '武汉',\n",
       "              '郑州',\n",
       "              '济南',\n",
       "              '合肥',\n",
       "              '杭州',\n",
       "              '南昌',\n",
       "              '福州',\n",
       "              '长沙',\n",
       "              '北京',\n",
       "              '上海',\n",
       "              '天津'],\n",
       "             '合肥': ['石家庄',\n",
       "              '武汉',\n",
       "              '郑州',\n",
       "              '济南',\n",
       "              '南京',\n",
       "              '杭州',\n",
       "              '南昌',\n",
       "              '福州',\n",
       "              '广州',\n",
       "              '长沙',\n",
       "              '太原',\n",
       "              '北京',\n",
       "              '上海',\n",
       "              '天津',\n",
       "              '香港',\n",
       "              '澳门'],\n",
       "             '杭州': ['武汉', '济南', '南京', '合肥', '南昌', '福州', '北京', '上海', '天津'],\n",
       "             '南昌': ['石家庄',\n",
       "              '武汉',\n",
       "              '郑州',\n",
       "              '济南',\n",
       "              '南京',\n",
       "              '合肥',\n",
       "              '杭州',\n",
       "              '福州',\n",
       "              '广州',\n",
       "              '长沙',\n",
       "              '太原',\n",
       "              '北京',\n",
       "              '上海',\n",
       "              '天津',\n",
       "              '香港',\n",
       "              '澳门'],\n",
       "             '福州': ['武汉',\n",
       "              '济南',\n",
       "              '南京',\n",
       "              '合肥',\n",
       "              '杭州',\n",
       "              '南昌',\n",
       "              '广州',\n",
       "              '上海',\n",
       "              '香港',\n",
       "              '澳门'],\n",
       "             '广州': ['石家庄',\n",
       "              '武汉',\n",
       "              '郑州',\n",
       "              '合肥',\n",
       "              '南昌',\n",
       "              '福州',\n",
       "              '长沙',\n",
       "              '太原',\n",
       "              '西安',\n",
       "              '南宁',\n",
       "              '香港',\n",
       "              '澳门'],\n",
       "             '长沙': ['石家庄',\n",
       "              '武汉',\n",
       "              '郑州',\n",
       "              '济南',\n",
       "              '南京',\n",
       "              '合肥',\n",
       "              '南昌',\n",
       "              '广州',\n",
       "              '太原',\n",
       "              '西安',\n",
       "              '北京',\n",
       "              '天津',\n",
       "              '呼和浩特',\n",
       "              '南宁',\n",
       "              '香港',\n",
       "              '澳门'],\n",
       "             '沈阳': ['长春', '哈尔滨', '上海'],\n",
       "             '长春': ['沈阳', '哈尔滨'],\n",
       "             '哈尔滨': ['沈阳', '长春'],\n",
       "             '太原': ['石家庄',\n",
       "              '武汉',\n",
       "              '郑州',\n",
       "              '济南',\n",
       "              '合肥',\n",
       "              '南昌',\n",
       "              '广州',\n",
       "              '长沙',\n",
       "              '西安',\n",
       "              '北京',\n",
       "              '天津',\n",
       "              '呼和浩特',\n",
       "              '银川',\n",
       "              '澳门'],\n",
       "             '西安': ['兰州',\n",
       "              '成都',\n",
       "              '石家庄',\n",
       "              '贵阳',\n",
       "              '武汉',\n",
       "              '郑州',\n",
       "              '广州',\n",
       "              '长沙',\n",
       "              '太原',\n",
       "              '重庆',\n",
       "              '呼和浩特',\n",
       "              '南宁',\n",
       "              '银川'],\n",
       "             '北京': ['石家庄',\n",
       "              '武汉',\n",
       "              '郑州',\n",
       "              '济南',\n",
       "              '南京',\n",
       "              '合肥',\n",
       "              '杭州',\n",
       "              '南昌',\n",
       "              '长沙',\n",
       "              '太原',\n",
       "              '天津',\n",
       "              '呼和浩特'],\n",
       "             '上海': ['济南', '南京', '合肥', '杭州', '南昌', '福州', '沈阳', '天津'],\n",
       "             '重庆': ['兰州', '西宁', '成都', '拉萨', '贵阳', '西安', '呼和浩特', '南宁', '银川'],\n",
       "             '天津': ['石家庄',\n",
       "              '武汉',\n",
       "              '郑州',\n",
       "              '济南',\n",
       "              '南京',\n",
       "              '合肥',\n",
       "              '杭州',\n",
       "              '南昌',\n",
       "              '长沙',\n",
       "              '太原',\n",
       "              '北京',\n",
       "              '上海',\n",
       "              '呼和浩特'],\n",
       "             '呼和浩特': ['石家庄',\n",
       "              '武汉',\n",
       "              '郑州',\n",
       "              '济南',\n",
       "              '长沙',\n",
       "              '太原',\n",
       "              '西安',\n",
       "              '北京',\n",
       "              '重庆',\n",
       "              '天津',\n",
       "              '银川'],\n",
       "             '南宁': ['兰州',\n",
       "              '成都',\n",
       "              '拉萨',\n",
       "              '贵阳',\n",
       "              '广州',\n",
       "              '长沙',\n",
       "              '西安',\n",
       "              '重庆',\n",
       "              '银川',\n",
       "              '香港',\n",
       "              '澳门'],\n",
       "             '银川': ['兰州',\n",
       "              '西宁',\n",
       "              '成都',\n",
       "              '拉萨',\n",
       "              '贵阳',\n",
       "              '太原',\n",
       "              '西安',\n",
       "              '重庆',\n",
       "              '呼和浩特',\n",
       "              '南宁'],\n",
       "             '香港': ['武汉', '郑州', '合肥', '南昌', '福州', '广州', '长沙', '南宁', '澳门'],\n",
       "             '澳门': ['武汉',\n",
       "              '郑州',\n",
       "              '合肥',\n",
       "              '南昌',\n",
       "              '福州',\n",
       "              '广州',\n",
       "              '长沙',\n",
       "              '太原',\n",
       "              '南宁',\n",
       "              '香港']})"
      ]
     },
     "execution_count": 33,
     "metadata": {},
     "output_type": "execute_result"
    }
   ],
   "source": [
    "cities_connection"
   ]
  },
  {
   "cell_type": "markdown",
   "metadata": {},
   "source": [
    "### Draw connection graph"
   ]
  },
  {
   "cell_type": "code",
   "execution_count": 34,
   "metadata": {},
   "outputs": [],
   "source": [
    "cities_connection_graph = nx.Graph(cities_connection)"
   ]
  },
  {
   "cell_type": "code",
   "execution_count": 35,
   "metadata": {},
   "outputs": [
    {
     "name": "stderr",
     "output_type": "stream",
     "text": [
      "C:\\Users\\86186\\Anaconda3\\lib\\site-packages\\networkx\\drawing\\nx_pylab.py:611: MatplotlibDeprecationWarning: isinstance(..., numbers.Number)\n",
      "  if cb.is_numlike(alpha):\n"
     ]
    },
    {
     "data": {
      "image/png": "[encoded data removed]",
      "text/plain": [
       "<Figure size 432x288 with 1 Axes>"
      ]
     },
     "metadata": {},
     "output_type": "display_data"
    }
   ],
   "source": [
    "nx.draw(cities_connection_graph,city_info,with_labels=True,node_size=3)"
   ]
  },
  {
   "cell_type": "markdown",
   "metadata": {},
   "source": [
    "### BFS 1 version"
   ]
  },
  {
   "cell_type": "code",
   "execution_count": 36,
   "metadata": {},
   "outputs": [],
   "source": [
    "def search_1(graph,start,destination):\n",
    "    pathes = [[start]]\n",
    "    visited = set()\n",
    "    \n",
    "    while pathes:\n",
    "        path = pathes.pop(0)\n",
    "        froniter = path[-1]\n",
    "        \n",
    "        if froniter in visited: continue\n",
    "            \n",
    "        successsors = graph[froniter]\n",
    "        \n",
    "        for city in successsors:\n",
    "            if city in path: continue  # check loop\n",
    "            \n",
    "            new_path = path+[city]\n",
    "            \n",
    "            pathes.append(new_path)  #bfs\n",
    "            #pathes = [new_path] + pathes #dfs\n",
    "            \n",
    "            if city == destination:\n",
    "                return new_path\n",
    "        visited.add(froniter)"
   ]
  },
  {
   "cell_type": "code",
   "execution_count": 39,
   "metadata": {},
   "outputs": [
    {
     "data": {
      "text/plain": [
       "['澳门', '武汉', '北京']"
      ]
     },
     "execution_count": 39,
     "metadata": {},
     "output_type": "execute_result"
    }
   ],
   "source": [
    "search_1(cities_connection,\"澳门\",\"北京\")"
   ]
  },
  {
   "cell_type": "markdown",
   "metadata": {},
   "source": [
    "### Optimal search using variation of BFS"
   ]
  },
  {
   "cell_type": "code",
   "execution_count": 41,
   "metadata": {},
   "outputs": [],
   "source": [
    "def search_2(graph,start,destination,search_strategy):\n",
    "    pathes = [[start]]\n",
    "    #visited = set()\n",
    "    while pathes:\n",
    "        path = pathes.pop(0)\n",
    "        froniter = path[-1]\n",
    "        #if froniter in visited : continue\n",
    "        #if froniter == destination:\n",
    "        #    return path\n",
    "        successsors = graph[froniter]\n",
    "        \n",
    "        for city in successsors:\n",
    "            if city in path: continue  # check loop\n",
    "            \n",
    "            new_path = path+[city]\n",
    "            \n",
    "            pathes.append(new_path)  #bfs\n",
    "            \n",
    "        pathes = search_strategy(pathes)\n",
    "       # visited.add(froniter)\n",
    "        if pathes and (destination == pathes[0][-1]):\n",
    "            return pathes[0]  "
   ]
  },
  {
   "cell_type": "code",
   "execution_count": 42,
   "metadata": {},
   "outputs": [],
   "source": [
    "def sort_by_distance(pathes):\n",
    "    def get_distance_of_path(path):\n",
    "        distance = 0\n",
    "        for i,_ in enumerate(path[:-1]):\n",
    "            distance += get_city_distance(path[i],path[i+1])\n",
    "        return distance\n",
    "    return sorted(pathes,key=get_distance_of_path)"
   ]
  },
  {
   "cell_type": "code",
   "execution_count": 43,
   "metadata": {},
   "outputs": [],
   "source": [
    "def get_distance_of_path(path):\n",
    "    distance = 0\n",
    "    for i,_ in enumerate(path[:-1]):\n",
    "        distance += get_city_distance(path[i],path[i+1])\n",
    "    return distance"
   ]
  },
  {
   "cell_type": "code",
   "execution_count": 44,
   "metadata": {},
   "outputs": [
    {
     "data": {
      "text/plain": [
       "752.66259009181"
      ]
     },
     "execution_count": 44,
     "metadata": {},
     "output_type": "execute_result"
    }
   ],
   "source": [
    "get_distance_of_path([\"北京\",\"济南\",\"上海\"])"
   ]
  },
  {
   "cell_type": "code",
   "execution_count": 45,
   "metadata": {},
   "outputs": [
    {
     "data": {
      "text/plain": [
       "732.5085345714293"
      ]
     },
     "execution_count": 45,
     "metadata": {},
     "output_type": "execute_result"
    }
   ],
   "source": [
    "get_distance_of_path([\"北京\",\"天津\",\"上海\"])"
   ]
  },
  {
   "cell_type": "code",
   "execution_count": 46,
   "metadata": {},
   "outputs": [
    {
     "data": {
      "text/plain": [
       "1885.4622950127139"
      ]
     },
     "execution_count": 46,
     "metadata": {},
     "output_type": "execute_result"
    }
   ],
   "source": [
    "get_distance_of_path([\"北京\",\"澳门\",\"上海\"])"
   ]
  },
  {
   "cell_type": "code",
   "execution_count": 47,
   "metadata": {},
   "outputs": [
    {
     "data": {
      "text/plain": [
       "['北京', '济南', '上海']"
      ]
     },
     "execution_count": 47,
     "metadata": {},
     "output_type": "execute_result"
    }
   ],
   "source": [
    "search_2(cities_connection,\"北京\",\"上海\",search_strategy=lambda x:x)"
   ]
  },
  {
   "cell_type": "code",
   "execution_count": 49,
   "metadata": {},
   "outputs": [
    {
     "data": {
      "text/plain": [
       "['澳门', '南昌', '上海']"
      ]
     },
     "execution_count": 49,
     "metadata": {},
     "output_type": "execute_result"
    }
   ],
   "source": [
    "search_2(cities_connection,\"澳门\",\"上海\",search_strategy=sort_by_distance)"
   ]
  },
  {
   "cell_type": "markdown",
   "metadata": {},
   "source": [
    "# AI for NLP Lecture 1 Part 2"
   ]
  },
  {
   "cell_type": "markdown",
   "metadata": {},
   "source": [
    "## Machine Learning"
   ]
  },
  {
   "cell_type": "code",
   "execution_count": 50,
   "metadata": {},
   "outputs": [],
   "source": [
    "from sklearn.datasets import load_boston\n",
    "import random"
   ]
  },
  {
   "cell_type": "code",
   "execution_count": 53,
   "metadata": {},
   "outputs": [],
   "source": [
    "dataset = load_boston() #dataset"
   ]
  },
  {
   "cell_type": "code",
   "execution_count": 52,
   "metadata": {},
   "outputs": [],
   "source": [
    "x,y=dataset['data'],dataset['target']"
   ]
  },
  {
   "cell_type": "code",
   "execution_count": 54,
   "metadata": {},
   "outputs": [
    {
     "data": {
      "text/plain": [
       "(506, 13)"
      ]
     },
     "execution_count": 54,
     "metadata": {},
     "output_type": "execute_result"
    }
   ],
   "source": [
    "x.shape"
   ]
  },
  {
   "cell_type": "code",
   "execution_count": 55,
   "metadata": {},
   "outputs": [
    {
     "data": {
      "text/plain": [
       "(506,)"
      ]
     },
     "execution_count": 55,
     "metadata": {},
     "output_type": "execute_result"
    }
   ],
   "source": [
    "y.shape"
   ]
  },
  {
   "cell_type": "code",
   "execution_count": 56,
   "metadata": {},
   "outputs": [
    {
     "data": {
      "text/plain": [
       "array([2.7310e-02, 0.0000e+00, 7.0700e+00, 0.0000e+00, 4.6900e-01,\n",
       "       6.4210e+00, 7.8900e+01, 4.9671e+00, 2.0000e+00, 2.4200e+02,\n",
       "       1.7800e+01, 3.9690e+02, 9.1400e+00])"
      ]
     },
     "execution_count": 56,
     "metadata": {},
     "output_type": "execute_result"
    }
   ],
   "source": [
    "x[1].shape\n",
    "x[1]"
   ]
  },
  {
   "cell_type": "code",
   "execution_count": 57,
   "metadata": {},
   "outputs": [
    {
     "data": {
      "text/plain": [
       "array(['CRIM', 'ZN', 'INDUS', 'CHAS', 'NOX', 'RM', 'AGE', 'DIS', 'RAD',\n",
       "       'TAX', 'PTRATIO', 'B', 'LSTAT'], dtype='<U7')"
      ]
     },
     "execution_count": 57,
     "metadata": {},
     "output_type": "execute_result"
    }
   ],
   "source": [
    "dataset.feature_names"
   ]
  },
  {
   "cell_type": "code",
   "execution_count": 58,
   "metadata": {},
   "outputs": [
    {
     "data": {
      "text/plain": [
       "\".. _boston_dataset:\\n\\nBoston house prices dataset\\n---------------------------\\n\\n**Data Set Characteristics:**  \\n\\n    :Number of Instances: 506 \\n\\n    :Number of Attributes: 13 numeric/categorical predictive. Median Value (attribute 14) is usually the target.\\n\\n    :Attribute Information (in order):\\n        - CRIM     per capita crime rate by town\\n        - ZN       proportion of residential land zoned for lots over 25,000 sq.ft.\\n        - INDUS    proportion of non-retail business acres per town\\n        - CHAS     Charles River dummy variable (= 1 if tract bounds river; 0 otherwise)\\n        - NOX      nitric oxides concentration (parts per 10 million)\\n        - RM       average number of rooms per dwelling\\n        - AGE      proportion of owner-occupied units built prior to 1940\\n        - DIS      weighted distances to five Boston employment centres\\n        - RAD      index of accessibility to radial highways\\n        - TAX      full-value property-tax rate per $10,000\\n        - PTRATIO  pupil-teacher ratio by town\\n        - B        1000(Bk - 0.63)^2 where Bk is the proportion of blacks by town\\n        - LSTAT    % lower status of the population\\n        - MEDV     Median value of owner-occupied homes in $1000's\\n\\n    :Missing Attribute Values: None\\n\\n    :Creator: Harrison, D. and Rubinfeld, D.L.\\n\\nThis is a copy of UCI ML housing dataset.\\nhttps://archive.ics.uci.edu/ml/machine-learning-databases/housing/\\n\\n\\nThis dataset was taken from the StatLib library which is maintained at Carnegie Mellon University.\\n\\nThe Boston house-price data of Harrison, D. and Rubinfeld, D.L. 'Hedonic\\nprices and the demand for clean air', J. Environ. Economics & Management,\\nvol.5, 81-102, 1978.   Used in Belsley, Kuh & Welsch, 'Regression diagnostics\\n...', Wiley, 1980.   N.B. Various transformations are used in the table on\\npages 244-261 of the latter.\\n\\nThe Boston house-price data has been used in many machine learning papers that address regression\\nproblems.   \\n     \\n.. topic:: References\\n\\n   - Belsley, Kuh & Welsch, 'Regression diagnostics: Identifying Influential Data and Sources of Collinearity', Wiley, 1980. 244-261.\\n   - Quinlan,R. (1993). Combining Instance-Based and Model-Based Learning. In Proceedings on the Tenth International Conference of Machine Learning, 236-243, University of Massachusetts, Amherst. Morgan Kaufmann.\\n\""
      ]
     },
     "execution_count": 58,
     "metadata": {},
     "output_type": "execute_result"
    }
   ],
   "source": [
    "dataset['DESCR']"
   ]
  },
  {
   "cell_type": "code",
   "execution_count": 59,
   "metadata": {},
   "outputs": [],
   "source": [
    "X_rm = x[:,5]"
   ]
  },
  {
   "cell_type": "code",
   "execution_count": 60,
   "metadata": {},
   "outputs": [
    {
     "data": {
      "text/plain": [
       "<matplotlib.collections.PathCollection at 0x1c8098524a8>"
      ]
     },
     "execution_count": 60,
     "metadata": {},
     "output_type": "execute_result"
    },
    {
     "data": {
      "image/png": "[encoded data removed]",
      "text/plain": [
       "<Figure size 432x288 with 1 Axes>"
      ]
     },
     "metadata": {
      "needs_background": "light"
     },
     "output_type": "display_data"
    }
   ],
   "source": [
    "# plot the RM with respect to y\n",
    "plt.scatter(X_rm,y)"
   ]
  },
  {
   "cell_type": "markdown",
   "metadata": {},
   "source": [
    "### Gradient descent"
   ]
  },
  {
   "cell_type": "markdown",
   "metadata": {},
   "source": [
    "### Assume that the target funciton is a linear function\n",
    "$$ y = k*rm + b$$"
   ]
  },
  {
   "cell_type": "code",
   "execution_count": 62,
   "metadata": {},
   "outputs": [],
   "source": [
    "#define target function\n",
    "def price(rm, k, b):\n",
    "    return k * rm + b"
   ]
  },
  {
   "cell_type": "markdown",
   "metadata": {},
   "source": [
    "### Define mean square loss"
   ]
  },
  {
   "cell_type": "markdown",
   "metadata": {},
   "source": [
    "$$ loss = \\frac{1}{n} \\sum{(y_i - \\hat{y_i})}^2$$"
   ]
  },
  {
   "cell_type": "markdown",
   "metadata": {},
   "source": [
    "$$ loss = \\frac{1}{n} \\sum{(y_i - (kx_i + b_i))}^2 $$"
   ]
  },
  {
   "cell_type": "code",
   "execution_count": 63,
   "metadata": {},
   "outputs": [],
   "source": [
    "# define loss function \n",
    "def loss(y,y_hat):\n",
    "    return sum((y_i - y_hat_i)**2 for y_i, y_hat_i in zip(list(y),list(y_hat)))/len(list(y))"
   ]
  },
  {
   "cell_type": "markdown",
   "metadata": {},
   "source": [
    "### Define partial derivatives"
   ]
  },
  {
   "cell_type": "markdown",
   "metadata": {},
   "source": [
    "$$ \\frac{\\partial{loss}}{\\partial{k}} = -\\frac{2}{n}\\sum(y_i - \\hat{y_i})x_i$$"
   ]
  },
  {
   "cell_type": "markdown",
   "metadata": {},
   "source": [
    "$$ \\frac{\\partial{loss}}{\\partial{b}} = -\\frac{2}{n}\\sum(y_i - \\hat{y_i})$$"
   ]
  },
  {
   "cell_type": "code",
   "execution_count": 64,
   "metadata": {},
   "outputs": [],
   "source": [
    "# define partial derivative \n",
    "def partial_derivative_k(x, y, y_hat):\n",
    "    n = len(y)\n",
    "    gradient = 0\n",
    "    for x_i, y_i, y_hat_i in zip(list(x),list(y),list(y_hat)):\n",
    "        gradient += (y_i-y_hat_i) * x_i\n",
    "    return -2/n * gradient\n",
    "\n",
    "def partial_derivative_b(y, y_hat):\n",
    "    n = len(y)\n",
    "    gradient = 0\n",
    "    for y_i, y_hat_i in zip(list(y),list(y_hat)):\n",
    "        gradient += (y_i-y_hat_i)\n",
    "    return -2 / n * gradient"
   ]
  },
  {
   "cell_type": "code",
   "execution_count": 93,
   "metadata": {},
   "outputs": [
    {
     "name": "stdout",
     "output_type": "stream",
     "text": [
      "Iteration 0, the loss is 153845.72245527466, parameters k is 77.91430105319884 and b is -77.93970915881067\n",
      "Iteration 1, the loss is 129674.55380137946, parameters k is 72.95465568446548 and b is -78.71808991917565\n",
      "Iteration 2, the loss is 109302.91487367975, parameters k is 68.40145972980878 and b is -79.43257480235309\n",
      "Iteration 3, the loss is 92133.5475365704, parameters k is 64.22140278966974 and b is -80.08840037202619\n",
      "Iteration 4, the loss is 77663.07824181931, parameters k is 60.38390440502674 and b is -80.69037403138577\n",
      "Iteration 5, the loss is 65467.260061750654, parameters k is 56.86089032620535 and b is -81.24290919480757\n",
      "Iteration 6, the loss is 55188.53456629823, parameters k is 53.626587117488846 and b is -81.75005757704875\n",
      "Iteration 7, the loss is 46525.54888153194, parameters k is 50.657333594826085 and b is -82.2155388361962\n",
      "Iteration 8, the loss is 39224.3205895035, parameters k is 47.931407717087005 and b is -82.64276778723878\n",
      "Iteration 9, the loss is 33070.79144087361, parameters k is 45.42886766437634 and b is -83.03487938536205\n",
      "Iteration 10, the loss is 27884.55156916262, parameters k is 43.131405940710934 and b is -83.39475166174708\n",
      "Iteration 11, the loss is 23513.550212376234, parameters k is 41.02221543365399 and b is -83.725026779675\n",
      "Iteration 12, the loss is 19829.63787030069, parameters k is 39.085866450978756 and b is -84.02813036498682\n",
      "Iteration 13, the loss is 16724.809201892564, parameters k is 37.30819383474344 and b is -84.30628925232315\n",
      "Iteration 14, the loss is 14108.03651157447, parameters k is 35.67619332688725 and b is -84.56154777697792\n",
      "Iteration 15, the loss is 11902.600988201453, parameters k is 34.17792642814266 and b is -84.79578273155967\n",
      "Iteration 16, the loss is 10043.843453639307, parameters k is 32.80243305419775 and b is -85.0107170968857\n",
      "Iteration 17, the loss is 8477.268677127831, parameters k is 31.539651350087944 and b is -85.20793264756614\n",
      "Iteration 18, the loss is 7156.947677487478, parameters k is 30.380344076167376 and b is -85.38888152450248\n",
      "Iteration 19, the loss is 6044.171171671636, parameters k is 29.316031027088652 and b is -85.55489685896657\n",
      "Iteration 20, the loss is 5106.314691305351, parameters k is 28.338926989358253 and b is -85.70720252598744\n",
      "Iteration 21, the loss is 4315.882094559706, parameters k is 27.44188478355578 and b is -85.84692209840318\n",
      "Iteration 22, the loss is 3649.699430926474, parameters k is 26.618342974505428 and b is -85.97508706708712\n",
      "Iteration 23, the loss is 3088.235524522938, parameters k is 25.862277866839584 and b is -86.09264438748852\n",
      "Iteration 24, the loss is 2615.0293567054955, parameters k is 25.168159434746872 and b is -86.2004634076997\n",
      "Iteration 25, the loss is 2216.2074599260695, parameters k is 24.530910863480173 and b is -86.29934222873601\n",
      "Iteration 26, the loss is 1880.0771737257157, parameters k is 23.94587140662423 and b is -86.3900135435617\n",
      "Iteration 27, the loss is 1596.7838378953566, parameters k is 23.408762287381144 and b is -86.47314999758069\n",
      "Iteration 28, the loss is 1358.0218723510202, parameters k is 22.915655394402386 and b is -86.54936910981054\n",
      "Iteration 29, the loss is 1156.791273128325, parameters k is 22.462944543141496 and b is -86.61923779074343\n",
      "Iteration 30, the loss is 987.1923854161637, parameters k is 22.04731909247114 and b is -86.68327648994773\n",
      "Iteration 31, the loss is 844.2529367605083, parameters k is 21.665739723539836 and b is -86.74196300375453\n",
      "Iteration 32, the loss is 723.7822593767717, parameters k is 21.315416203662828 and b is -86.79573597088675\n",
      "Iteration 33, the loss is 622.248427642787, parameters k is 20.99378697256444 and b is -86.84499808160527\n",
      "Iteration 34, the loss is 536.6747086744994, parameters k is 20.698500401621803 and b is -86.89011902385087\n",
      "Iteration 35, the loss is 464.55229010978064, parameters k is 20.42739758899981 and b is -86.93143818793624\n",
      "Iteration 36, the loss is 403.7667264429291, parameters k is 20.178496564803936 and b is -86.96926714957601\n",
      "Iteration 37, the loss is 352.5359474545578, parameters k is 19.949977790693474 and b is -87.00389194942109\n",
      "Iteration 38, the loss is 309.35801126048324, parameters k is 19.74017084786819 and b is -87.03557518577462\n",
      "Iteration 39, the loss is 272.96707019717564, parameters k is 19.547542216035733 and b is -87.06455793580027\n",
      "Iteration 40, the loss is 242.29625854623333, parameters k is 19.370684053948928 and b is -87.09106151927867\n",
      "Iteration 41, the loss is 216.446414035693, parameters k is 19.208303899429634 and b is -87.11528911781583\n",
      "Iteration 42, the loss is 194.65971609134482, parameters k is 19.059215213523075 and b is -87.1374272613501\n",
      "Iteration 43, the loss is 176.29746796110922, parameters k is 18.922328699602225 and b is -87.15764719283287\n",
      "Iteration 44, the loss is 160.82137132609714, parameters k is 18.79664433391155 and b is -87.17610612106756\n",
      "Iteration 45, the loss is 147.7777444051263, parameters k is 18.681244049244352 and b is -87.19294837087264\n",
      "Iteration 46, the loss is 136.78422085716426, parameters k is 18.575285018226428 and b is -87.20830643898346\n",
      "Iteration 47, the loss is 127.5185395185104, parameters k is 18.477993487065554 and b is -87.22230196341808\n",
      "Iteration 48, the loss is 119.70909631086113, parameters k is 18.388659114653557 and b is -87.23504661339916\n",
      "Iteration 49, the loss is 113.12698131995953, parameters k is 18.30662977560504 and b is -87.24664290634263\n",
      "Iteration 50, the loss is 107.57926758693185, parameters k is 18.231306789210993 and b is -87.25718495789029\n",
      "Iteration 51, the loss is 102.90335485227658, parameters k is 18.162140539401616 and b is -87.26675917047396\n",
      "Iteration 52, the loss is 98.9622024217113, parameters k is 18.098626453673326 and b is -87.27544486544846\n",
      "Iteration 53, the loss is 95.64031139045598, parameters k is 18.040301311561237 and b is -87.28331486341852\n",
      "Iteration 54, the loss is 92.84033843231605, parameters k is 17.986739855649276 and b is -87.29043601700512\n",
      "Iteration 55, the loss is 90.48024187622414, parameters k is 17.937551680323626 and b is -87.29686969994921\n",
      "Iteration 56, the loss is 88.49087639856447, parameters k is 17.892378375507153 and b is -87.30267225613122\n",
      "Iteration 57, the loss is 86.81396581217888, parameters k is 17.85089090447793 and b is -87.30789541179118\n",
      "Iteration 58, the loss is 85.40039451803354, parameters k is 17.81278719658759 and b is -87.31258665396567\n",
      "Iteration 59, the loss is 84.20876752812373, parameters k is 17.777789937267517 and b is -87.31678957791001\n",
      "Iteration 60, the loss is 83.20419684218693, parameters k is 17.74564453915418 and b is -87.32054420604771\n",
      "Iteration 61, the loss is 82.35727859707607, parameters k is 17.71611727949008 and b is -87.32388728078038\n",
      "Iteration 62, the loss is 81.64323100072778, parameters k is 17.688993590173272 and b is -87.32685253330068\n",
      "Iteration 63, the loss is 81.04116777657393, parameters k is 17.664076487945188 and b is -87.32947093037475\n",
      "Iteration 64, the loss is 80.53348581714897, parameters k is 17.64118513323181 and b is -87.33177090089968\n",
      "Iteration 65, the loss is 80.10534909404717, parameters k is 17.620153507094415 and b is -87.33377854389356\n",
      "Iteration 66, the loss is 79.744253693441, parameters k is 17.60082919661031 and b is -87.33551781943976\n",
      "Iteration 67, the loss is 79.43966122481649, parameters k is 17.583072279797214 and b is -87.3370107239825\n",
      "Iteration 68, the loss is 79.18268985516073, parameters k is 17.566754301923197 and b is -87.33827745125613\n",
      "Iteration 69, the loss is 78.96585391030318, parameters k is 17.551757335712747 and b is -87.33933654002546\n",
      "Iteration 70, the loss is 78.78284440901156, parameters k is 17.53797311857327 and b is -87.34020500971813\n",
      "Iteration 71, the loss is 78.62834409551324, parameters k is 17.525302260529845 and b is -87.34089848494135\n",
      "Iteration 72, the loss is 78.49787154754604, parameters k is 17.513653517073376 and b is -87.34143130979376\n",
      "Iteration 73, the loss is 78.38764978947533, parameters k is 17.502943121602186 and b is -87.34181665280909\n",
      "Iteration 74, the loss is 78.29449555846404, parameters k is 17.493094172573084 and b is -87.34206660329902\n",
      "Iteration 75, the loss is 78.21572597718688, parameters k is 17.484036070878233 and b is -87.34219225980047\n",
      "Iteration 76, the loss is 78.14907989690633, parameters k is 17.475704003331572 and b is -87.34220381127413\n",
      "Iteration 77, the loss is 78.09265160483997, parameters k is 17.468038468485894 and b is -87.3421106116484\n",
      "Iteration 78, the loss is 78.04483495224218, parameters k is 17.460984841311404 and b is -87.34192124825414\n",
      "Iteration 79, the loss is 78.0042762651392, parameters k is 17.454492973550874 and b is -87.34164360465087\n",
      "Iteration 80, the loss is 77.96983465715248, parameters k is 17.44851682682753 and b is -87.34128491830408\n",
      "Iteration 81, the loss is 77.94054858085251, parameters k is 17.443014135821425 and b is -87.34085183353558\n",
      "Iteration 82, the loss is 77.91560763699522, parameters k is 17.437946099050084 and b is -87.34035045013438\n",
      "Iteration 83, the loss is 77.89432881513822, parameters k is 17.43327709499107 and b is -87.33978636798365\n",
      "Iteration 84, the loss is 77.87613646905812, parameters k is 17.42897442146963 and b is -87.33916472803028\n",
      "Iteration 85, the loss is 77.86054543988449, parameters k is 17.425008056404717 and b is -87.33849024989689\n",
      "Iteration 86, the loss is 77.84714683215344, parameters k is 17.421350438162982 and b is -87.3377672664112\n",
      "Iteration 87, the loss is 77.83559602576106, parameters k is 17.417976263913747 and b is -87.33699975530573\n",
      "Iteration 88, the loss is 77.82560257234897, parameters k is 17.414862304509754 and b is -87.33619136831943\n",
      "Iteration 89, the loss is 77.81692167990472, parameters k is 17.411987234539243 and b is -87.33534545791441\n",
      "Iteration 90, the loss is 77.80934703591959, parameters k is 17.409331476306082 and b is -87.33446510180299\n",
      "Iteration 91, the loss is 77.80270475869364, parameters k is 17.40687705659642 and b is -87.33355312546476\n",
      "Iteration 92, the loss is 77.79684829945104, parameters k is 17.404607475183994 and b is -87.33261212281819\n",
      "Iteration 93, the loss is 77.79165414580555, parameters k is 17.402507584111994 and b is -87.33164447519813\n",
      "Iteration 94, the loss is 77.78701820060917, parameters k is 17.400563476868378 and b is -87.33065236877803\n",
      "Iteration 95, the loss is 77.78285273001913, parameters k is 17.398762386643753 and b is -87.32963781056431\n",
      "Iteration 96, the loss is 77.77908379130815, parameters k is 17.397092592927503 and b is -87.32860264307989\n",
      "Iteration 97, the loss is 77.77564906500012, parameters k is 17.395543335758777 and b is -87.32754855784442\n",
      "Iteration 98, the loss is 77.77249602778247, parameters k is 17.39410473700503 and b is -87.32647710774967\n",
      "Iteration 99, the loss is 77.76958041262053, parameters k is 17.392767728092124 and b is -87.32538971842071\n",
      "Iteration 100, the loss is 77.76686491093108, parameters k is 17.3915239836573 and b is -87.32428769864603\n",
      "Iteration 101, the loss is 77.76431807876574, parameters k is 17.39036586063958 and b is -87.3231722499528\n",
      "Iteration 102, the loss is 77.76191341493268, parameters k is 17.38928634236199 and b is -87.32204447539749\n",
      "Iteration 103, the loss is 77.75962858403196, parameters k is 17.388278987196525 and b is -87.3209053876359\n",
      "Iteration 104, the loss is 77.75744476162373, parameters k is 17.38733788143622 and b is -87.31975591633201\n",
      "Iteration 105, the loss is 77.75534608233134, parameters k is 17.38645759602961 and b is -87.31859691495949\n",
      "Iteration 106, the loss is 77.75331917469771, parameters k is 17.385633146860968 and b is -87.31742916704583\n",
      "Iteration 107, the loss is 77.75135276915994, parameters k is 17.384859958285777 and b is -87.31625339190481\n",
      "Iteration 108, the loss is 77.74943736764725, parameters k is 17.38413382965464 and b is -87.31507024989905\n",
      "Iteration 109, the loss is 77.74756496511489, parameters k is 17.383450904580695 and b is -87.31388034727138\n",
      "Iteration 110, the loss is 77.74572881485183, parameters k is 17.382807642725723 and b is -87.31268424058015\n",
      "Iteration 111, the loss is 77.74392323067966, parameters k is 17.38220079389851 and b is -87.31148244077116\n",
      "Iteration 112, the loss is 77.74214342024494, parameters k is 17.38162737427595 and b is -87.31027541691577\n",
      "Iteration 113, the loss is 77.74038534451635, parameters k is 17.381084644572972 and b is -87.30906359964274\n",
      "Iteration 114, the loss is 77.738645599368, parameters k is 17.380570090001505 and b is -87.30784738428875\n",
      "Iteration 115, the loss is 77.73692131577678, parameters k is 17.38008140187193 and b is -87.30662713379076\n",
      "Iteration 116, the loss is 77.73521007570864, parameters k is 17.379616460702355 and b is -87.3054031813413\n",
      "Iteration 117, the loss is 77.73350984122582, parameters k is 17.379173320712177 and b is -87.30417583282623\n",
      "Iteration 118, the loss is 77.73181889473899, parameters k is 17.378750195586452 and b is -87.30294536906254\n",
      "Iteration 119, the loss is 77.73013578865044, parameters k is 17.37834544540696 and b is -87.30171204785296\n",
      "Iteration 120, the loss is 77.72845930291382, parameters k is 17.377957564654317 and b is -87.300476105872\n",
      "Iteration 121, the loss is 77.72678840926422, parameters k is 17.37758517119337 and b is -87.29923776039756\n",
      "Iteration 122, the loss is 77.72512224107217, parameters k is 17.377226996161298 and b is -87.29799721090058\n",
      "Iteration 123, the loss is 77.72346006793514, parameters k is 17.37688187468441 and b is -87.29675464050433\n",
      "Iteration 124, the loss is 77.72180127426384, parameters k is 17.376548737355773 and b is -87.29551021732429\n",
      "Iteration 125, the loss is 77.72014534123473, parameters k is 17.376226602411258 and b is -87.29426409569798\n",
      "Iteration 126, the loss is 77.71849183157873, parameters k is 17.375914568546815 and b is -87.29301641731422\n",
      "Iteration 127, the loss is 77.7168403767616, parameters k is 17.375611808324408 and b is -87.29176731224972\n",
      "Iteration 128, the loss is 77.71519066617974, parameters k is 17.375317562118333 and b is -87.29051689992075\n",
      "Iteration 129, the loss is 77.7135424380532, parameters k is 17.375031132557712 and b is -87.28926528995677\n",
      "Iteration 130, the loss is 77.71189547175133, parameters k is 17.3747518794244 and b is -87.2880125830026\n",
      "Iteration 131, the loss is 77.71024958132459, parameters k is 17.374479214969075 and b is -87.28675887145464\n",
      "Iteration 132, the loss is 77.70860461005263, parameters k is 17.374212599611155 and b is -87.28550424013696\n",
      "Iteration 133, the loss is 77.7069604258499, parameters k is 17.37395153799117 and b is -87.28424876692182\n",
      "Iteration 134, the loss is 77.70531691739289, parameters k is 17.37369557534663 and b is -87.28299252329944\n",
      "Iteration 135, the loss is 77.70367399085693, parameters k is 17.37344429418491 and b is -87.28173557490103\n",
      "Iteration 136, the loss is 77.70203156716533, parameters k is 17.373197311228818 and b is -87.28047798197896\n",
      "Iteration 137, the loss is 77.70038957967091, parameters k is 17.372954274612482 and b is -87.27921979984758\n",
      "Iteration 138, the loss is 77.69874797220233, parameters k is 17.37271486130705 and b is -87.2779610792879\n",
      "Iteration 139, the loss is 77.69710669741772, parameters k is 17.372478774757358 and b is -87.27670186691917\n",
      "Iteration 140, the loss is 77.69546571541609, parameters k is 17.3722457427123 and b is -87.27544220553986\n",
      "Iteration 141, the loss is 77.69382499256785, parameters k is 17.37201551523298 and b is -87.2741821344409\n",
      "Iteration 142, the loss is 77.69218450052978, parameters k is 17.37178786286415 and b is -87.27292168969309\n",
      "Iteration 143, the loss is 77.69054421541261, parameters k is 17.37156257495545 and b is -87.27166090441095\n",
      "Iteration 144, the loss is 77.6889041170822, parameters k is 17.371339458120293 and b is -87.27039980899511\n",
      "Iteration 145, the loss is 77.6872641885686, parameters k is 17.37111833482099 and b is -87.26913843135462\n",
      "Iteration 146, the loss is 77.68562441556891, parameters k is 17.370899042069887 and b is -87.26787679711123\n",
      "Iteration 147, the loss is 77.68398478602779, parameters k is 17.370681430236893 and b is -87.2666149297868\n",
      "Iteration 148, the loss is 77.68234528978454, parameters k is 17.370465361954793 and b is -87.2653528509754\n",
      "Iteration 149, the loss is 77.6807059182746, parameters k is 17.370250711114235 and b is -87.26409058050132\n",
      "Iteration 150, the loss is 77.67906666427974, parameters k is 17.370037361941097 and b is -87.26282813656407\n",
      "Iteration 151, the loss is 77.67742752171543, parameters k is 17.369825208149475 and b is -87.2615655358716\n",
      "Iteration 152, the loss is 77.67578848545273, parameters k is 17.36961415216407 and b is -87.26030279376248\n",
      "Iteration 153, the loss is 77.67414955116887, parameters k is 17.369404104406318 and b is -87.25903992431817\n",
      "Iteration 154, the loss is 77.67251071521967, parameters k is 17.369194982639026 and b is -87.25777694046604\n",
      "Iteration 155, the loss is 77.6708719745333, parameters k is 17.368986711364705 and b is -87.25651385407392\n",
      "Iteration 156, the loss is 77.66923332652004, parameters k is 17.368779221273222 and b is -87.25525067603694\n",
      "Iteration 157, the loss is 77.66759476899692, parameters k is 17.36857244873472 and b is -87.2539874163573\n",
      "Iteration 158, the loss is 77.66595630012338, parameters k is 17.368366335334095 and b is -87.25272408421742\n",
      "Iteration 159, the loss is 77.66431791834759, parameters k is 17.368160827443614 and b is -87.25146068804709\n",
      "Iteration 160, the loss is 77.66267962236098, parameters k is 17.367955875830578 and b is -87.25019723558519\n",
      "Iteration 161, the loss is 77.66104141106031, parameters k is 17.367751435297127 and b is -87.24893373393631\n",
      "Iteration 162, the loss is 77.65940328351479, parameters k is 17.36754746434956 and b is -87.24767018962271\n",
      "Iteration 163, the loss is 77.65776523893999, parameters k is 17.36734392489477 and b is -87.24640660863207\n",
      "Iteration 164, the loss is 77.65612727667335, parameters k is 17.36714078196154 and b is -87.2451429964613\n",
      "Iteration 165, the loss is 77.65448939615652, parameters k is 17.366938003444705 and b is -87.24387935815675\n",
      "Iteration 166, the loss is 77.652851596918, parameters k is 17.36673555987025 and b is -87.24261569835112\n",
      "Iteration 167, the loss is 77.65121387855993, parameters k is 17.366533424179682 and b is -87.2413520212974\n",
      "Iteration 168, the loss is 77.64957624074644, parameters k is 17.366331571532065 and b is -87.24008833089998\n",
      "Iteration 169, the loss is 77.64793868319386, parameters k is 17.366129979122288 and b is -87.23882463074317\n",
      "Iteration 170, the loss is 77.64630120566216, parameters k is 17.365928626014213 and b is -87.23756092411749\n",
      "Iteration 171, the loss is 77.64466380794909, parameters k is 17.365727492987503 and b is -87.23629721404372\n",
      "Iteration 172, the loss is 77.64302648988297, parameters k is 17.365526562397008 and b is -87.23503350329503\n",
      "Iteration 173, the loss is 77.64138925131911, parameters k is 17.36532581804367 and b is -87.23376979441724\n",
      "Iteration 174, the loss is 77.63975209213424, parameters k is 17.365125245056007 and b is -87.23250608974747\n",
      "Iteration 175, the loss is 77.63811501222466, parameters k is 17.364924829781316 and b is -87.23124239143125\n",
      "Iteration 176, the loss is 77.63647801150164, parameters k is 17.364724559685786 and b is -87.22997870143821\n",
      "Iteration 177, the loss is 77.63484108989039, parameters k is 17.364524423262804 and b is -87.2287150215765\n",
      "Iteration 178, the loss is 77.63320424732709, parameters k is 17.364324409948757 and b is -87.22745135350603\n",
      "Iteration 179, the loss is 77.6315674837571, parameters k is 17.364124510045773 and b is -87.22618769875058\n",
      "Iteration 180, the loss is 77.6299307991341, parameters k is 17.363924714650743 and b is -87.22492405870904\n",
      "Iteration 181, the loss is 77.62829419341843, parameters k is 17.363725015590205 and b is -87.22366043466556\n",
      "Iteration 182, the loss is 77.62665766657582, parameters k is 17.363525405360544 and b is -87.222396827799\n",
      "Iteration 183, the loss is 77.62502121857709, parameters k is 17.363325877073088 and b is -87.22113323919156\n",
      "Iteration 184, the loss is 77.62338484939676, parameters k is 17.36312642440371 and b is -87.21986966983665\n",
      "Iteration 185, the loss is 77.6217485590131, parameters k is 17.36292704154657 and b is -87.21860612064624\n",
      "Iteration 186, the loss is 77.62011234740689, parameters k is 17.362727723171634 and b is -87.2173425924575\n",
      "Iteration 187, the loss is 77.61847621456167, parameters k is 17.362528464385676 and b is -87.2160790860389\n",
      "Iteration 188, the loss is 77.6168401604625, parameters k is 17.362329260696484 and b is -87.21481560209591\n",
      "Iteration 189, the loss is 77.61520418509672, parameters k is 17.362130107979997 and b is -87.2135521412761\n",
      "Iteration 190, the loss is 77.6135682884525, parameters k is 17.36193100245013 and b is -87.2122887041739\n",
      "Iteration 191, the loss is 77.61193247051983, parameters k is 17.361731940631074 and b is -87.21102529133499\n",
      "Iteration 192, the loss is 77.6102967312893, parameters k is 17.361532919331864 and b is -87.20976190326024\n",
      "Iteration 193, the loss is 77.60866107075272, parameters k is 17.36133393562305 and b is -87.20849854040945\n",
      "Iteration 194, the loss is 77.60702548890211, parameters k is 17.361134986815248 and b is -87.20723520320463\n",
      "Iteration 195, the loss is 77.60538998573055, parameters k is 17.36093607043947 and b is -87.20597189203319\n",
      "Iteration 196, the loss is 77.60375456123157, parameters k is 17.360737184229073 and b is -87.20470860725071\n",
      "Iteration 197, the loss is 77.60211921539899, parameters k is 17.360538326103157 and b is -87.20344534918355\n",
      "Iteration 198, the loss is 77.60048394822698, parameters k is 17.360339494151354 and b is -87.2021821181313\n",
      "Iteration 199, the loss is 77.59884875971032, parameters k is 17.360140686619854 and b is -87.20091891436891\n"
     ]
    }
   ],
   "source": [
    "#initialized parameters\n",
    "\n",
    "k = random.random() * 200 - 100  # -100 100\n",
    "b = random.random() * 200 - 100  # -100 100\n",
    "\n",
    "learning_rate = 1e-3\n",
    "\n",
    "iteration_num = 200 \n",
    "losses = []\n",
    "for i in range(iteration_num):\n",
    "    \n",
    "    price_use_current_parameters = [price(r, k, b) for r in X_rm]  # \\hat{y}\n",
    "    \n",
    "    current_loss = loss(y, price_use_current_parameters)\n",
    "    losses.append(current_loss)\n",
    "    print(\"Iteration {}, the loss is {}, parameters k is {} and b is {}\".format(i,current_loss,k,b))\n",
    "    \n",
    "    k_gradient = partial_derivative_k(X_rm, y, price_use_current_parameters)\n",
    "    b_gradient = partial_derivative_b(y, price_use_current_parameters)\n",
    "    \n",
    "    k = k + (-1 * k_gradient) * learning_rate\n",
    "    b = b + (-1 * b_gradient) * learning_rate\n",
    "best_k = k\n",
    "best_b = b"
   ]
  },
  {
   "cell_type": "code",
   "execution_count": 94,
   "metadata": {},
   "outputs": [
    {
     "data": {
      "text/plain": [
       "[<matplotlib.lines.Line2D at 0x1c809bf6588>]"
      ]
     },
     "execution_count": 94,
     "metadata": {},
     "output_type": "execute_result"
    },
    {
     "data": {
      "image/png": "[encoded data removed]",
      "text/plain": [
       "<Figure size 432x288 with 1 Axes>"
      ]
     },
     "metadata": {
      "needs_background": "light"
     },
     "output_type": "display_data"
    }
   ],
   "source": [
    "plt.plot(list(range(iteration_num)),losses)"
   ]
  },
  {
   "cell_type": "code",
   "execution_count": 95,
   "metadata": {},
   "outputs": [
    {
     "data": {
      "text/plain": [
       "<matplotlib.collections.PathCollection at 0x1c809c619b0>"
      ]
     },
     "execution_count": 95,
     "metadata": {},
     "output_type": "execute_result"
    },
    {
     "data": {
      "image/png": "[encoded data removed]",
      "text/plain": [
       "<Figure size 432x288 with 1 Axes>"
      ]
     },
     "metadata": {
      "needs_background": "light"
     },
     "output_type": "display_data"
    }
   ],
   "source": [
    "price_use_best_parameters = [price(r, best_k, best_b) for r in X_rm]\n",
    "\n",
    "plt.scatter(X_rm,y)\n",
    "plt.scatter(X_rm,price_use_current_parameters)"
   ]
  },
  {
   "cell_type": "code",
   "execution_count": null,
   "metadata": {},
   "outputs": [],
   "source": []
  }
 ],
 "metadata": {
  "kernelspec": {
   "display_name": "Python 3",
   "language": "python",
   "name": "python3"
  },
  "language_info": {
   "codemirror_mode": {
    "name": "ipython",
    "version": 3
   },
   "file_extension": ".py",
   "mimetype": "text/x-python",
   "name": "python",
   "nbconvert_exporter": "python",
   "pygments_lexer": "ipython3",
   "version": "3.7.3"
  }
 },
 "nbformat": 4,
 "nbformat_minor": 2
}
