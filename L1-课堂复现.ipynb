{
 "cells": [
  {
   "cell_type": "code",
   "execution_count": 98,
   "metadata": {},
   "outputs": [],
   "source": [
    "hello_rules = '''\n",
    "say_hello = names hello tail\n",
    "names = name names | name\n",
    "name = Jhon | Mike | 老梁 | 老刘\n",
    "hello = 你好 | 您来了 | 快请进\n",
    "tail = 呀 | !\n",
    "'''"
   ]
  },
  {
   "cell_type": "code",
   "execution_count": 19,
   "metadata": {},
   "outputs": [
    {
     "data": {
      "text/plain": [
       "'add = number + number'"
      ]
     },
     "execution_count": 19,
     "metadata": {},
     "output_type": "execute_result"
    }
   ],
   "source": [
    "'add = number + number'"
   ]
  },
  {
   "cell_type": "code",
   "execution_count": 88,
   "metadata": {},
   "outputs": [],
   "source": [
    "def get_generation_by_gram(grammar_str: str, target, stmt_split='=', or_split='|'):\n",
    "    \n",
    "    rules = dict() # key is the @statement, value is @expression\n",
    "    for line in grammar_str.split('\\n'):\n",
    "        if not line: continue \n",
    "    #     skip the epty line\n",
    "\n",
    "        stmt, expr = line.split(stmt_split)\n",
    "\n",
    "        print(stmt, expr.split(or_split))\n",
    "\n",
    "        rules[stmt.strip()] = expr.split(or_split)\n",
    "    generated = generate(rules, target=target)\n",
    "    \n",
    "    return generated"
   ]
  },
  {
   "cell_type": "code",
   "execution_count": 67,
   "metadata": {},
   "outputs": [
    {
     "data": {
      "text/plain": [
       "[' Jhon ', ' Mike ', ' 老梁 ', ' 老刘']"
      ]
     },
     "execution_count": 67,
     "metadata": {},
     "output_type": "execute_result"
    }
   ],
   "source": [
    "rules['name']"
   ]
  },
  {
   "cell_type": "code",
   "execution_count": 68,
   "metadata": {},
   "outputs": [
    {
     "data": {
      "text/plain": [
       "{'say_hello ': [' names hello tail'],\n",
       " 'names ': [' name names | name'],\n",
       " 'name ': [' Jhon | Mike | 老梁 | 老刘'],\n",
       " 'hello ': [' 你好 | 您老啦 | 快请进'],\n",
       " 'tail ': [' 呀 | !'],\n",
       " 'say_hello': [' names hello tail'],\n",
       " 'names': [' name names ', ' name'],\n",
       " 'name': [' Jhon ', ' Mike ', ' 老梁 ', ' 老刘'],\n",
       " 'hello': [' 你好 ', ' 您老啦 ', ' 快请进'],\n",
       " 'tail': [' 呀 ', ' !']}"
      ]
     },
     "execution_count": 68,
     "metadata": {},
     "output_type": "execute_result"
    }
   ],
   "source": [
    "rules"
   ]
  },
  {
   "cell_type": "code",
   "execution_count": 96,
   "metadata": {},
   "outputs": [],
   "source": [
    "def generate(grammar_rule,target):\n",
    "    if target in grammar_rule:   #names\n",
    "        candidates = grammar_rule[target]   #['name names', 'name']\n",
    "        candidate = random.choice(candidates)   #'name names', 'name'\n",
    "        return ''.join(generate(grammar_rule,target=c.strip())for c in candidate.split())\n",
    "    else:\n",
    "        return target"
   ]
  },
  {
   "cell_type": "code",
   "execution_count": 97,
   "metadata": {},
   "outputs": [
    {
     "data": {
      "text/plain": [
       "'Mike您老啦呀'"
      ]
     },
     "execution_count": 97,
     "metadata": {},
     "output_type": "execute_result"
    }
   ],
   "source": [
    "generate(rules, target='say_hello')"
   ]
  },
  {
   "cell_type": "code",
   "execution_count": 91,
   "metadata": {},
   "outputs": [
    {
     "name": "stdout",
     "output_type": "stream",
     "text": [
      "say_hello  [' names hello tail']\n",
      "names  [' name names ', ' name']\n",
      "name  [' Jhon ', ' Mike ', ' 老梁 ', ' 老刘']\n",
      "hello  [' 你好 ', ' 您老啦 ', ' 快请进']\n",
      "tail  [' 呀 ', ' !']\n"
     ]
    },
    {
     "data": {
      "text/plain": [
       "'Mike 快请进 呀'"
      ]
     },
     "execution_count": 91,
     "metadata": {},
     "output_type": "execute_result"
    }
   ],
   "source": [
    "get_generation_by_gram(hello_rules, target='say_hello')"
   ]
  },
  {
   "cell_type": "code",
   "execution_count": 94,
   "metadata": {},
   "outputs": [],
   "source": [
    "simple_grammar = \"\"\"\n",
    "sentence => noun_phrase verb_phrase\n",
    "noun_phrase => Article Adj* noun\n",
    "Adj* => Adj | Adj Adj*\n",
    "verb_phrase => verb noun_phrase\n",
    "Article =>  一个 | 这个\n",
    "noun =>   女人 |  篮球 | 桌子 | 小猫\n",
    "verb => 看着   |  坐在 |  听着 | 看见\n",
    "Adj =>   蓝色的 |  好看的 | 小小的\"\"\""
   ]
  },
  {
   "cell_type": "code",
   "execution_count": 99,
   "metadata": {},
   "outputs": [
    {
     "name": "stdout",
     "output_type": "stream",
     "text": [
      "sentence  [' noun_phrase verb_phrase']\n",
      "noun_phrase  [' Article Adj* noun']\n",
      "Adj*  [' Adj ', ' Adj Adj*']\n",
      "verb_phrase  [' verb noun_phrase']\n",
      "Article  ['  一个 ', ' 这个']\n",
      "noun  ['   女人 ', '  篮球 ', ' 桌子 ', ' 小猫']\n",
      "verb  [' 看着   ', '  坐在 ', '  听着 ', ' 看见']\n",
      "Adj  ['   蓝色的 ', '  好看的 ', ' 小小的']\n"
     ]
    },
    {
     "data": {
      "text/plain": [
       "'这个蓝色的女人看见一个蓝色的蓝色的好看的好看的篮球'"
      ]
     },
     "execution_count": 99,
     "metadata": {},
     "output_type": "execute_result"
    }
   ],
   "source": [
    "get_generation_by_gram(simple_grammar, target='sentence', stmt_split='=>')"
   ]
  },
  {
   "cell_type": "code",
   "execution_count": 105,
   "metadata": {},
   "outputs": [],
   "source": [
    "simple_programming = '''\n",
    "if_stmt => if ( cond ) { stmt }\n",
    "cond => var op vale\n",
    "op => | == | < | >= | <= \n",
    "stmt => assign | if_stmt\n",
    "assign => var = var\n",
    "var =>  char var | char\n",
    "char => a | b |  c | d | 0 | 1 | 2 | 3\n",
    "'''"
   ]
  },
  {
   "cell_type": "code",
   "execution_count": 121,
   "metadata": {},
   "outputs": [
    {
     "name": "stdout",
     "output_type": "stream",
     "text": [
      "if_stmt  [' if ( cond ) { stmt }']\n",
      "cond  [' var op vale']\n",
      "op  [' ', ' == ', ' < ', ' >= ', ' <= ']\n",
      "stmt  [' assign ', ' if_stmt']\n",
      "assign  [' var = var']\n",
      "var  ['  char var ', ' char']\n",
      "char  [' a ', ' b ', '  c ', ' d ', ' 0 ', ' 1 ', ' 2 ', ' 3']\n",
      "if(d2>=vale){if(1avale){d=dc2}}\n",
      "if_stmt  [' if ( cond ) { stmt }']\n",
      "cond  [' var op vale']\n",
      "op  [' ', ' == ', ' < ', ' >= ', ' <= ']\n",
      "stmt  [' assign ', ' if_stmt']\n",
      "assign  [' var = var']\n",
      "var  ['  char var ', ' char']\n",
      "char  [' a ', ' b ', '  c ', ' d ', ' 0 ', ' 1 ', ' 2 ', ' 3']\n",
      "if(0vale){if(03a<vale){c=3}}\n",
      "if_stmt  [' if ( cond ) { stmt }']\n",
      "cond  [' var op vale']\n",
      "op  [' ', ' == ', ' < ', ' >= ', ' <= ']\n",
      "stmt  [' assign ', ' if_stmt']\n",
      "assign  [' var = var']\n",
      "var  ['  char var ', ' char']\n",
      "char  [' a ', ' b ', '  c ', ' d ', ' 0 ', ' 1 ', ' 2 ', ' 3']\n",
      "if(0<=vale){0b=c101}\n",
      "if_stmt  [' if ( cond ) { stmt }']\n",
      "cond  [' var op vale']\n",
      "op  [' ', ' == ', ' < ', ' >= ', ' <= ']\n",
      "stmt  [' assign ', ' if_stmt']\n",
      "assign  [' var = var']\n",
      "var  ['  char var ', ' char']\n",
      "char  [' a ', ' b ', '  c ', ' d ', ' 0 ', ' 1 ', ' 2 ', ' 3']\n",
      "if(ac<vale){if(cvale){b=dc}}\n",
      "if_stmt  [' if ( cond ) { stmt }']\n",
      "cond  [' var op vale']\n",
      "op  [' ', ' == ', ' < ', ' >= ', ' <= ']\n",
      "stmt  [' assign ', ' if_stmt']\n",
      "assign  [' var = var']\n",
      "var  ['  char var ', ' char']\n",
      "char  [' a ', ' b ', '  c ', ' d ', ' 0 ', ' 1 ', ' 2 ', ' 3']\n",
      "if(1223b==vale){22=333d2}\n",
      "if_stmt  [' if ( cond ) { stmt }']\n",
      "cond  [' var op vale']\n",
      "op  [' ', ' == ', ' < ', ' >= ', ' <= ']\n",
      "stmt  [' assign ', ' if_stmt']\n",
      "assign  [' var = var']\n",
      "var  ['  char var ', ' char']\n",
      "char  [' a ', ' b ', '  c ', ' d ', ' 0 ', ' 1 ', ' 2 ', ' 3']\n",
      "if(0==vale){if(ddd==vale){1=c}}\n",
      "if_stmt  [' if ( cond ) { stmt }']\n",
      "cond  [' var op vale']\n",
      "op  [' ', ' == ', ' < ', ' >= ', ' <= ']\n",
      "stmt  [' assign ', ' if_stmt']\n",
      "assign  [' var = var']\n",
      "var  ['  char var ', ' char']\n",
      "char  [' a ', ' b ', '  c ', ' d ', ' 0 ', ' 1 ', ' 2 ', ' 3']\n",
      "if(c0vale){2=0b}\n",
      "if_stmt  [' if ( cond ) { stmt }']\n",
      "cond  [' var op vale']\n",
      "op  [' ', ' == ', ' < ', ' >= ', ' <= ']\n",
      "stmt  [' assign ', ' if_stmt']\n",
      "assign  [' var = var']\n",
      "var  ['  char var ', ' char']\n",
      "char  [' a ', ' b ', '  c ', ' d ', ' 0 ', ' 1 ', ' 2 ', ' 3']\n",
      "if(30<vale){if(11>=vale){db=b1}}\n",
      "if_stmt  [' if ( cond ) { stmt }']\n",
      "cond  [' var op vale']\n",
      "op  [' ', ' == ', ' < ', ' >= ', ' <= ']\n",
      "stmt  [' assign ', ' if_stmt']\n",
      "assign  [' var = var']\n",
      "var  ['  char var ', ' char']\n",
      "char  [' a ', ' b ', '  c ', ' d ', ' 0 ', ' 1 ', ' 2 ', ' 3']\n",
      "if(1vale){0=cdc0}\n",
      "if_stmt  [' if ( cond ) { stmt }']\n",
      "cond  [' var op vale']\n",
      "op  [' ', ' == ', ' < ', ' >= ', ' <= ']\n",
      "stmt  [' assign ', ' if_stmt']\n",
      "assign  [' var = var']\n",
      "var  ['  char var ', ' char']\n",
      "char  [' a ', ' b ', '  c ', ' d ', ' 0 ', ' 1 ', ' 2 ', ' 3']\n",
      "if(d3ca<=vale){if(a<=vale){if(1==vale){if(ac<=vale){if(a>=vale){01=3}}}}}\n",
      "if_stmt  [' if ( cond ) { stmt }']\n",
      "cond  [' var op vale']\n",
      "op  [' ', ' == ', ' < ', ' >= ', ' <= ']\n",
      "stmt  [' assign ', ' if_stmt']\n",
      "assign  [' var = var']\n",
      "var  ['  char var ', ' char']\n",
      "char  [' a ', ' b ', '  c ', ' d ', ' 0 ', ' 1 ', ' 2 ', ' 3']\n",
      "if(c3vale){if(bd2b3==vale){if(a13==vale){if(c>=vale){23d32=30}}}}\n",
      "if_stmt  [' if ( cond ) { stmt }']\n",
      "cond  [' var op vale']\n",
      "op  [' ', ' == ', ' < ', ' >= ', ' <= ']\n",
      "stmt  [' assign ', ' if_stmt']\n",
      "assign  [' var = var']\n",
      "var  ['  char var ', ' char']\n",
      "char  [' a ', ' b ', '  c ', ' d ', ' 0 ', ' 1 ', ' 2 ', ' 3']\n",
      "if(2b<=vale){if(b<=vale){if(2c==vale){0=31a}}}\n",
      "if_stmt  [' if ( cond ) { stmt }']\n",
      "cond  [' var op vale']\n",
      "op  [' ', ' == ', ' < ', ' >= ', ' <= ']\n",
      "stmt  [' assign ', ' if_stmt']\n",
      "assign  [' var = var']\n",
      "var  ['  char var ', ' char']\n",
      "char  [' a ', ' b ', '  c ', ' d ', ' 0 ', ' 1 ', ' 2 ', ' 3']\n",
      "if(c>=vale){0=c21}\n",
      "if_stmt  [' if ( cond ) { stmt }']\n",
      "cond  [' var op vale']\n",
      "op  [' ', ' == ', ' < ', ' >= ', ' <= ']\n",
      "stmt  [' assign ', ' if_stmt']\n",
      "assign  [' var = var']\n",
      "var  ['  char var ', ' char']\n",
      "char  [' a ', ' b ', '  c ', ' d ', ' 0 ', ' 1 ', ' 2 ', ' 3']\n",
      "if(1ddbcvale){if(cvale){d=2b}}\n",
      "if_stmt  [' if ( cond ) { stmt }']\n",
      "cond  [' var op vale']\n",
      "op  [' ', ' == ', ' < ', ' >= ', ' <= ']\n",
      "stmt  [' assign ', ' if_stmt']\n",
      "assign  [' var = var']\n",
      "var  ['  char var ', ' char']\n",
      "char  [' a ', ' b ', '  c ', ' d ', ' 0 ', ' 1 ', ' 2 ', ' 3']\n",
      "if(3vale){if(ddd<vale){a=1a}}\n",
      "if_stmt  [' if ( cond ) { stmt }']\n",
      "cond  [' var op vale']\n",
      "op  [' ', ' == ', ' < ', ' >= ', ' <= ']\n",
      "stmt  [' assign ', ' if_stmt']\n",
      "assign  [' var = var']\n",
      "var  ['  char var ', ' char']\n",
      "char  [' a ', ' b ', '  c ', ' d ', ' 0 ', ' 1 ', ' 2 ', ' 3']\n",
      "if(0>=vale){c=a}\n",
      "if_stmt  [' if ( cond ) { stmt }']\n",
      "cond  [' var op vale']\n",
      "op  [' ', ' == ', ' < ', ' >= ', ' <= ']\n",
      "stmt  [' assign ', ' if_stmt']\n",
      "assign  [' var = var']\n",
      "var  ['  char var ', ' char']\n",
      "char  [' a ', ' b ', '  c ', ' d ', ' 0 ', ' 1 ', ' 2 ', ' 3']\n",
      "if(1<vale){3=3}\n",
      "if_stmt  [' if ( cond ) { stmt }']\n",
      "cond  [' var op vale']\n",
      "op  [' ', ' == ', ' < ', ' >= ', ' <= ']\n",
      "stmt  [' assign ', ' if_stmt']\n",
      "assign  [' var = var']\n",
      "var  ['  char var ', ' char']\n",
      "char  [' a ', ' b ', '  c ', ' d ', ' 0 ', ' 1 ', ' 2 ', ' 3']\n",
      "if(bvale){if(3==vale){if(3b<vale){0=3}}}\n",
      "if_stmt  [' if ( cond ) { stmt }']\n",
      "cond  [' var op vale']\n",
      "op  [' ', ' == ', ' < ', ' >= ', ' <= ']\n",
      "stmt  [' assign ', ' if_stmt']\n",
      "assign  [' var = var']\n",
      "var  ['  char var ', ' char']\n",
      "char  [' a ', ' b ', '  c ', ' d ', ' 0 ', ' 1 ', ' 2 ', ' 3']\n",
      "if(2<=vale){3a=d}\n",
      "if_stmt  [' if ( cond ) { stmt }']\n",
      "cond  [' var op vale']\n",
      "op  [' ', ' == ', ' < ', ' >= ', ' <= ']\n",
      "stmt  [' assign ', ' if_stmt']\n",
      "assign  [' var = var']\n",
      "var  ['  char var ', ' char']\n",
      "char  [' a ', ' b ', '  c ', ' d ', ' 0 ', ' 1 ', ' 2 ', ' 3']\n",
      "if(b==vale){bcdb=b}\n"
     ]
    }
   ],
   "source": [
    "for i in range(20):\n",
    "    print(get_generation_by_gram(simple_programming, target='if_stmt', stmt_split='=>'))"
   ]
  },
  {
   "cell_type": "code",
   "execution_count": 13,
   "metadata": {},
   "outputs": [],
   "source": [
    "import random"
   ]
  },
  {
   "cell_type": "code",
   "execution_count": 4,
   "metadata": {},
   "outputs": [],
   "source": [
    "def name():\n",
    "    return random.choice('Jhon | Mike | 老梁'.split('|'))"
   ]
  },
  {
   "cell_type": "code",
   "execution_count": 6,
   "metadata": {},
   "outputs": [],
   "source": [
    "def hello():\n",
    "    return random.choice('你好 | 您老啦 | 快请进'.split('|'))"
   ]
  },
  {
   "cell_type": "code",
   "execution_count": 11,
   "metadata": {},
   "outputs": [],
   "source": [
    "def say_hello():\n",
    "    return name() + ' ' + hello()"
   ]
  },
  {
   "cell_type": "code",
   "execution_count": 17,
   "metadata": {},
   "outputs": [
    {
     "data": {
      "text/plain": [
       "'Jhon   您老啦 '"
      ]
     },
     "execution_count": 17,
     "metadata": {},
     "output_type": "execute_result"
    }
   ],
   "source": [
    "say_hello()"
   ]
  },
  {
   "cell_type": "markdown",
   "metadata": {},
   "source": [
    "## Language model"
   ]
  },
  {
   "cell_type": "markdown",
   "metadata": {},
   "source": [
    "## input: Sentence(W1..Wn)\n",
    "## output: Probability(0 - 1)"
   ]
  },
  {
   "cell_type": "markdown",
   "metadata": {},
   "source": [
    "$$ Pr(sentence) = Pr(w_1 \\cdot w_2 \\cdots w_n) = \\prod \\frac{count(w_i, w_{i+1})}{count(w_i)}$$"
   ]
  },
  {
   "cell_type": "code",
   "execution_count": 5,
   "metadata": {},
   "outputs": [],
   "source": [
    "corpus = 'C:/Users/86186/Desktop/NLP STUDY/article_9k.txt'"
   ]
  },
  {
   "cell_type": "code",
   "execution_count": 8,
   "metadata": {},
   "outputs": [
    {
     "data": {
      "text/plain": [
       "33425826"
      ]
     },
     "execution_count": 8,
     "metadata": {},
     "output_type": "execute_result"
    }
   ],
   "source": [
    "FILE = open(corpus, encoding='utf-8').read()\n",
    "len(FILE)"
   ]
  },
  {
   "cell_type": "code",
   "execution_count": 9,
   "metadata": {},
   "outputs": [
    {
     "data": {
      "text/plain": [
       "'此外自本周6月12日起除小米手机6等15款机型外其余机型已暂停更新发布含开发版体验版内测稳定版暂不受影响以确保工程师可以集中全部精力进行系统优化工作有人猜测这也是将精力主要用到MIUI9的研发之中MI'"
      ]
     },
     "execution_count": 9,
     "metadata": {},
     "output_type": "execute_result"
    }
   ],
   "source": [
    "FILE[:100]"
   ]
  },
  {
   "cell_type": "code",
   "execution_count": 11,
   "metadata": {},
   "outputs": [],
   "source": [
    "def generate_by_pro(text_corpus, length=20):\n",
    "    return ''.join(random.sample(text_corpus, length))"
   ]
  },
  {
   "cell_type": "code",
   "execution_count": 14,
   "metadata": {},
   "outputs": [
    {
     "data": {
      "text/plain": [
       "'年大来午还联n不言汽明任贴发再其2乃进馆'"
      ]
     },
     "execution_count": 14,
     "metadata": {},
     "output_type": "execute_result"
    }
   ],
   "source": [
    "generate_by_pro(FILE)"
   ]
  },
  {
   "cell_type": "code",
   "execution_count": 16,
   "metadata": {},
   "outputs": [
    {
     "data": {
      "text/plain": [
       "'此外自本周6月12日起除小米手机6等15款机型外其余机型已暂停更新发布含开发版体验版内测稳定版暂不受影响以确保工程师可以集中全部精力进行系统优化工作有人猜测这也是将精力主要用到MIUI9的研发之中MIUI8去年5月发布距今已有一年有余也是时候更新换代了当然关于MIUI9的确切信息我们还是等待官方消息\\n骁龙835作为唯一通过Windows10桌面平台认证的ARM处理器高通强调不会因为只考虑性能而去屏蔽掉小核心相反他们正联手微软找到一种适合桌面平台的兼顾性能和功耗的完美方案报道称微软已经拿到了一些新的源码以便Windows10更好地理解biglittle架构资料显示骁龙835作为一款集成了CPUGPU基带蓝牙WiFi的SoC比传统的Wintel方案可以节省至少30的PCB空间按计划今年Q4华硕惠普联想将首发骁龙835Win10电脑预计均是二合一形态的产品当然高通骁龙只是个开始未来也许还能见到三星Exynos联发科华为麒麟小米澎湃等进入Windows10桌面平台\\n此前的一加3T搭载的是3400mAh电池DashCharge快充规格为5V4A至于电池缩水可能与刘作虎所说一加手机5要做市面最轻薄'"
      ]
     },
     "execution_count": 16,
     "metadata": {},
     "output_type": "execute_result"
    }
   ],
   "source": [
    "FILE[:500]"
   ]
  },
  {
   "cell_type": "code",
   "execution_count": 17,
   "metadata": {},
   "outputs": [],
   "source": [
    "import jieba"
   ]
  },
  {
   "cell_type": "code",
   "execution_count": 18,
   "metadata": {},
   "outputs": [],
   "source": [
    "max_length = 1000000\n",
    "sub_file = FILE[:max_length]"
   ]
  },
  {
   "cell_type": "code",
   "execution_count": 19,
   "metadata": {},
   "outputs": [],
   "source": [
    "def cut(string):\n",
    "    return list(jieba.cut(string))"
   ]
  },
  {
   "cell_type": "code",
   "execution_count": 20,
   "metadata": {},
   "outputs": [
    {
     "name": "stderr",
     "output_type": "stream",
     "text": [
      "Building prefix dict from the default dictionary ...\n",
      "Loading model from cache C:\\Users\\86186\\AppData\\Local\\Temp\\jieba.cache\n",
      "Loading model cost 1.967 seconds.\n",
      "Prefix dict has been built succesfully.\n"
     ]
    }
   ],
   "source": [
    "TOKENS = cut(sub_file)"
   ]
  },
  {
   "cell_type": "code",
   "execution_count": 36,
   "metadata": {},
   "outputs": [
    {
     "data": {
      "text/plain": [
       "['此外',\n",
       " '自',\n",
       " '本周',\n",
       " '6',\n",
       " '月',\n",
       " '12',\n",
       " '日起',\n",
       " '除',\n",
       " '小米',\n",
       " '手机',\n",
       " '6',\n",
       " '等',\n",
       " '15',\n",
       " '款',\n",
       " '机型',\n",
       " '外',\n",
       " '其余',\n",
       " '机型',\n",
       " '已',\n",
       " '暂停',\n",
       " '更新',\n",
       " '发布',\n",
       " '含',\n",
       " '开发',\n",
       " '版',\n",
       " '体验版',\n",
       " '内测',\n",
       " '稳定版',\n",
       " '暂不受',\n",
       " '影响',\n",
       " '以',\n",
       " '确保',\n",
       " '工程师',\n",
       " '可以',\n",
       " '集中',\n",
       " '全部',\n",
       " '精力',\n",
       " '进行',\n",
       " '系统优化',\n",
       " '工作',\n",
       " '有人',\n",
       " '猜测',\n",
       " '这',\n",
       " '也',\n",
       " '是',\n",
       " '将',\n",
       " '精力',\n",
       " '主要',\n",
       " '用到',\n",
       " 'MIUI9',\n",
       " '的',\n",
       " '研发',\n",
       " '之中',\n",
       " 'MIUI8',\n",
       " '去年',\n",
       " '5',\n",
       " '月',\n",
       " '发布',\n",
       " '距今已有',\n",
       " '一年',\n",
       " '有余',\n",
       " '也',\n",
       " '是',\n",
       " '时候',\n",
       " '更新换代',\n",
       " '了',\n",
       " '当然',\n",
       " '关于',\n",
       " 'MIUI9',\n",
       " '的',\n",
       " '确切',\n",
       " '信息',\n",
       " '我们',\n",
       " '还是',\n",
       " '等待',\n",
       " '官方消息',\n",
       " '\\n',\n",
       " '骁龙',\n",
       " '835',\n",
       " '作为',\n",
       " '唯一',\n",
       " '通过',\n",
       " 'Windows10',\n",
       " '桌面',\n",
       " '平台',\n",
       " '认证',\n",
       " '的',\n",
       " 'ARM',\n",
       " '处理器',\n",
       " '高通',\n",
       " '强调',\n",
       " '不会',\n",
       " '因为',\n",
       " '只',\n",
       " '考虑',\n",
       " '性能',\n",
       " '而',\n",
       " '去',\n",
       " '屏蔽掉',\n",
       " '小']"
      ]
     },
     "execution_count": 36,
     "metadata": {},
     "output_type": "execute_result"
    }
   ],
   "source": [
    "TOKENS[:100]"
   ]
  },
  {
   "cell_type": "code",
   "execution_count": 22,
   "metadata": {},
   "outputs": [
    {
     "data": {
      "text/plain": [
       "532454"
      ]
     },
     "execution_count": 22,
     "metadata": {},
     "output_type": "execute_result"
    }
   ],
   "source": [
    "len(TOKENS)"
   ]
  },
  {
   "cell_type": "code",
   "execution_count": 27,
   "metadata": {},
   "outputs": [],
   "source": [
    "from collections import Counter"
   ]
  },
  {
   "cell_type": "code",
   "execution_count": 25,
   "metadata": {},
   "outputs": [],
   "source": [
    "%matplotlib inline"
   ]
  },
  {
   "cell_type": "code",
   "execution_count": 28,
   "metadata": {},
   "outputs": [],
   "source": [
    "words_count = Counter(TOKENS)"
   ]
  },
  {
   "cell_type": "code",
   "execution_count": 37,
   "metadata": {},
   "outputs": [
    {
     "data": {
      "text/plain": [
       "[('的', 28764),\n",
       " ('在', 7563),\n",
       " ('了', 6529),\n",
       " ('是', 4883),\n",
       " ('和', 4245),\n",
       " ('也', 2531),\n",
       " ('月', 2433),\n",
       " ('有', 2374),\n",
       " ('将', 2114),\n",
       " ('他', 1960),\n",
       " ('年', 1959),\n",
       " ('对', 1795),\n",
       " ('都', 1720),\n",
       " ('中', 1699),\n",
       " ('为', 1686),\n",
       " ('日', 1674),\n",
       " ('等', 1655),\n",
       " ('与', 1601),\n",
       " ('中国', 1597),\n",
       " ('上', 1583),\n",
       " ('不', 1566),\n",
       " ('就', 1530),\n",
       " ('被', 1484),\n",
       " ('6', 1454),\n",
       " ('我', 1425),\n",
       " ('到', 1385),\n",
       " ('这', 1330),\n",
       " ('人', 1321),\n",
       " ('但', 1296),\n",
       " ('\\n', 1196),\n",
       " ('后', 1186),\n",
       " ('一个', 1173),\n",
       " ('从', 1120),\n",
       " ('还', 1117),\n",
       " ('并', 1103),\n",
       " ('说', 1065),\n",
       " ('而', 1027),\n",
       " ('市场', 1018),\n",
       " ('会', 1001),\n",
       " ('我们', 981),\n",
       " ('没有', 981),\n",
       " ('表示', 934),\n",
       " ('让', 878),\n",
       " ('自己', 831),\n",
       " ('进行', 818),\n",
       " ('要', 817),\n",
       " ('已经', 808),\n",
       " ('记者', 794),\n",
       " ('时', 774),\n",
       " ('可以', 773),\n",
       " ('个', 761),\n",
       " ('他们', 759),\n",
       " ('以', 752),\n",
       " ('公司', 730),\n",
       " ('下', 723),\n",
       " ('更', 699),\n",
       " ('发展', 694),\n",
       " ('5', 670),\n",
       " ('她', 652),\n",
       " ('美国', 651),\n",
       " ('其', 649),\n",
       " ('可能', 648),\n",
       " ('多', 646),\n",
       " ('你', 640),\n",
       " ('这个', 636),\n",
       " ('着', 631),\n",
       " ('目前', 611),\n",
       " ('就是', 611),\n",
       " ('能', 594),\n",
       " ('通过', 591),\n",
       " ('企业', 572),\n",
       " ('给', 567),\n",
       " ('时间', 560),\n",
       " ('工作', 558),\n",
       " ('新', 557),\n",
       " ('3', 555),\n",
       " ('很', 549),\n",
       " ('把', 548),\n",
       " ('问题', 546),\n",
       " ('来', 545),\n",
       " ('1', 535),\n",
       " ('经济', 521),\n",
       " ('地', 519),\n",
       " ('大', 519),\n",
       " ('北京', 511),\n",
       " ('已', 509),\n",
       " ('去', 501),\n",
       " ('20', 495),\n",
       " ('成为', 495),\n",
       " ('又', 491),\n",
       " ('以及', 488),\n",
       " ('旅游', 487),\n",
       " ('称', 486),\n",
       " ('里', 485),\n",
       " ('其中', 481),\n",
       " ('向', 478),\n",
       " ('4', 474),\n",
       " ('于', 470),\n",
       " ('投资', 467),\n",
       " ('10', 464)]"
      ]
     },
     "execution_count": 37,
     "metadata": {},
     "output_type": "execute_result"
    }
   ],
   "source": [
    "words_count.most_common(100)"
   ]
  },
  {
   "cell_type": "code",
   "execution_count": 29,
   "metadata": {},
   "outputs": [],
   "source": [
    "words_with_fre = [f for w, f in words_count.most_common()]"
   ]
  },
  {
   "cell_type": "code",
   "execution_count": 30,
   "metadata": {},
   "outputs": [],
   "source": [
    "import matplotlib.pyplot as plt"
   ]
  },
  {
   "cell_type": "code",
   "execution_count": 34,
   "metadata": {},
   "outputs": [
    {
     "data": {
      "text/plain": [
       "[('的', 28764),\n",
       " ('在', 7563),\n",
       " ('了', 6529),\n",
       " ('是', 4883),\n",
       " ('和', 4245),\n",
       " ('也', 2531),\n",
       " ('月', 2433),\n",
       " ('有', 2374),\n",
       " ('将', 2114),\n",
       " ('他', 1960)]"
      ]
     },
     "execution_count": 34,
     "metadata": {},
     "output_type": "execute_result"
    }
   ],
   "source": [
    "words_count.most_common(10)"
   ]
  },
  {
   "cell_type": "code",
   "execution_count": 32,
   "metadata": {},
   "outputs": [
    {
     "data": {
      "text/plain": [
       "[28764, 7563, 6529, 4883, 4245, 2531, 2433, 2374, 2114, 1960]"
      ]
     },
     "execution_count": 32,
     "metadata": {},
     "output_type": "execute_result"
    }
   ],
   "source": [
    "words_with_fre[:10]"
   ]
  },
  {
   "cell_type": "code",
   "execution_count": 38,
   "metadata": {},
   "outputs": [],
   "source": [
    "import numpy as np"
   ]
  },
  {
   "cell_type": "code",
   "execution_count": 40,
   "metadata": {},
   "outputs": [
    {
     "data": {
      "text/plain": [
       "[<matplotlib.lines.Line2D at 0x20e89486ac8>]"
      ]
     },
     "execution_count": 40,
     "metadata": {},
     "output_type": "execute_result"
    },
    {
     "data": {
      "image/png": "[encoded data removed]",
      "text/plain": [
       "<Figure size 432x288 with 1 Axes>"
      ]
     },
     "metadata": {
      "needs_background": "light"
     },
     "output_type": "display_data"
    }
   ],
   "source": [
    "plt.plot(np.log(np.log(words_with_fre)))"
   ]
  },
  {
   "cell_type": "code",
   "execution_count": 21,
   "metadata": {},
   "outputs": [
    {
     "data": {
      "text/plain": [
       "['一加', '手机', '5', '要', '做', '市面', '最', '轻薄']"
      ]
     },
     "execution_count": 21,
     "metadata": {},
     "output_type": "execute_result"
    }
   ],
   "source": [
    "list(jieba.cut('一加手机5要做市面最轻薄'))"
   ]
  },
  {
   "cell_type": "code",
   "execution_count": 46,
   "metadata": {},
   "outputs": [],
   "source": [
    "_2_gram_words = [\n",
    "    TOKENS[i] + TOKENS[i+1] for i in range(len(TOKENS)-1)\n",
    "]"
   ]
  },
  {
   "cell_type": "code",
   "execution_count": 45,
   "metadata": {},
   "outputs": [
    {
     "data": {
      "text/plain": [
       "['此外自', '自本周', '本周6', '6月', '月12', '12日起', '日起除', '除小米', '小米手机', '手机6']"
      ]
     },
     "execution_count": 45,
     "metadata": {},
     "output_type": "execute_result"
    }
   ],
   "source": [
    "_2_gram_words[:10]"
   ]
  },
  {
   "cell_type": "code",
   "execution_count": 48,
   "metadata": {},
   "outputs": [],
   "source": [
    "_2_gram_word_counts = Counter(_2_gram_words)"
   ]
  },
  {
   "cell_type": "markdown",
   "metadata": {},
   "source": [
    "$$ Pr(sentence) = Pr(w_1 \\cdot w_2 \\cdots w_n) = \\prod \\frac{count(w_i, w_{i+1})}{count(w_{i+1})}$$"
   ]
  },
  {
   "cell_type": "code",
   "execution_count": 57,
   "metadata": {},
   "outputs": [
    {
     "data": {
      "text/plain": [
       "1"
      ]
     },
     "execution_count": 57,
     "metadata": {},
     "output_type": "execute_result"
    }
   ],
   "source": [
    "words_count.most_common()[-1][-1]"
   ]
  },
  {
   "cell_type": "code",
   "execution_count": 58,
   "metadata": {},
   "outputs": [],
   "source": [
    "def get_1_gram_count(word):\n",
    "    if word in words_count: return words_count[word]\n",
    "    else:\n",
    "        return words_count.most_common()[-1][-1]"
   ]
  },
  {
   "cell_type": "code",
   "execution_count": 59,
   "metadata": {},
   "outputs": [],
   "source": [
    "def get_2_gram_count(word):\n",
    "    if word in _2_gram_word_counts: return _2_gram_word_counts[word]\n",
    "    else:\n",
    "        return _2_gram_word_counts.most_common()[-1][-1]"
   ]
  },
  {
   "cell_type": "code",
   "execution_count": 60,
   "metadata": {},
   "outputs": [],
   "source": [
    "def get_gram_count(word, wc):\n",
    "    if word in wc: return wc[word]\n",
    "    else:\n",
    "        return wc.most_common()[-1][-1]"
   ]
  },
  {
   "cell_type": "code",
   "execution_count": 63,
   "metadata": {},
   "outputs": [
    {
     "data": {
      "text/plain": [
       "1"
      ]
     },
     "execution_count": 63,
     "metadata": {},
     "output_type": "execute_result"
    }
   ],
   "source": [
    "get_gram_count('xxx',words_count)"
   ]
  },
  {
   "cell_type": "code",
   "execution_count": 64,
   "metadata": {},
   "outputs": [
    {
     "data": {
      "text/plain": [
       "1"
      ]
     },
     "execution_count": 64,
     "metadata": {},
     "output_type": "execute_result"
    }
   ],
   "source": [
    "get_gram_count('xxx', _2_gram_word_counts)"
   ]
  },
  {
   "cell_type": "code",
   "execution_count": 65,
   "metadata": {},
   "outputs": [],
   "source": [
    "def two_gram_model(sentence):\n",
    "    tokens = cut(sentence)\n",
    "    \n",
    "    probability = 1\n",
    "    \n",
    "    for i in range(len(tokens)-1):\n",
    "        word = tokens[i]\n",
    "        next_word = tokens[i+1]\n",
    "        \n",
    "        _two_gram_c = get_gram_count(word+next_word, _2_gram_word_counts)\n",
    "        _one_gram_c = get_gram_count(next_word, words_count)\n",
    "        pro =  _two_gram_c / _one_gram_c\n",
    "        probability *= pro \n",
    "        \n",
    "    return probability\n",
    "        "
   ]
  },
  {
   "cell_type": "code",
   "execution_count": 66,
   "metadata": {},
   "outputs": [
    {
     "data": {
      "text/plain": [
       "3.0550026391456175e-26"
      ]
     },
     "execution_count": 66,
     "metadata": {},
     "output_type": "execute_result"
    }
   ],
   "source": [
    "two_gram_model('此外自本周6月12日起除小米手机6等15款机型')"
   ]
  },
  {
   "cell_type": "code",
   "execution_count": 73,
   "metadata": {},
   "outputs": [
    {
     "data": {
      "text/plain": [
       "8.702311333890282e-08"
      ]
     },
     "execution_count": 73,
     "metadata": {},
     "output_type": "execute_result"
    }
   ],
   "source": [
    "two_gram_model('我请你吃饭饭')"
   ]
  },
  {
   "cell_type": "code",
   "execution_count": 67,
   "metadata": {},
   "outputs": [
    {
     "data": {
      "text/plain": [
       "7.429922323539344e-07"
      ]
     },
     "execution_count": 67,
     "metadata": {},
     "output_type": "execute_result"
    }
   ],
   "source": [
    "two_gram_model('前天早上吃晚饭的时候')"
   ]
  },
  {
   "cell_type": "code",
   "execution_count": 69,
   "metadata": {},
   "outputs": [
    {
     "data": {
      "text/plain": [
       "5.710891812865497e-08"
      ]
     },
     "execution_count": 69,
     "metadata": {},
     "output_type": "execute_result"
    }
   ],
   "source": [
    "two_gram_model('我请你吃粤菜')"
   ]
  },
  {
   "cell_type": "code",
   "execution_count": 70,
   "metadata": {},
   "outputs": [
    {
     "data": {
      "text/plain": [
       "2.751306280917804e-07"
      ]
     },
     "execution_count": 70,
     "metadata": {},
     "output_type": "execute_result"
    }
   ],
   "source": [
    "two_gram_model('这个人来自卡迪夫大学')"
   ]
  },
  {
   "cell_type": "code",
   "execution_count": 71,
   "metadata": {},
   "outputs": [
    {
     "data": {
      "text/plain": [
       "0.005625879043600563"
      ]
     },
     "execution_count": 71,
     "metadata": {},
     "output_type": "execute_result"
    }
   ],
   "source": [
    "two_gram_model('我想吃饭')"
   ]
  },
  {
   "cell_type": "code",
   "execution_count": 72,
   "metadata": {},
   "outputs": [
    {
     "data": {
      "text/plain": [
       "1.7475796022508822e-05"
      ]
     },
     "execution_count": 72,
     "metadata": {},
     "output_type": "execute_result"
    }
   ],
   "source": [
    "two_gram_model('这个花特别好看')"
   ]
  }
 ],
 "metadata": {
  "kernelspec": {
   "display_name": "Python 3",
   "language": "python",
   "name": "python3"
  },
  "language_info": {
   "codemirror_mode": {
    "name": "ipython",
    "version": 3
   },
   "file_extension": ".py",
   "mimetype": "text/x-python",
   "name": "python",
   "nbconvert_exporter": "python",
   "pygments_lexer": "ipython3",
   "version": "3.7.3"
  }
 },
 "nbformat": 4,
 "nbformat_minor": 2
}
